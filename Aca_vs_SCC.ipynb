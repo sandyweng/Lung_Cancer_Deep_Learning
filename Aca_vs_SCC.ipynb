{
  "nbformat": 4,
  "nbformat_minor": 0,
  "metadata": {
    "colab": {
      "name": "Aca_vs_SCC.ipynb",
      "provenance": [],
      "authorship_tag": "ABX9TyNRxXSQl7DZ7NaSMH5Kdkiz",
      "include_colab_link": true
    },
    "kernelspec": {
      "name": "python3",
      "display_name": "Python 3"
    },
    "language_info": {
      "name": "python"
    },
    "accelerator": "GPU"
  },
  "cells": [
    {
      "cell_type": "markdown",
      "metadata": {
        "id": "view-in-github",
        "colab_type": "text"
      },
      "source": [
        "<a href=\"https://colab.research.google.com/github/sandyweng/Lung_Cancer_Deep_Learning/blob/main/Aca_vs_SCC.ipynb\" target=\"_parent\"><img src=\"https://colab.research.google.com/assets/colab-badge.svg\" alt=\"Open In Colab\"/></a>"
      ]
    },
    {
      "cell_type": "code",
      "metadata": {
        "colab": {
          "base_uri": "https://localhost:8080/"
        },
        "id": "Xp2eSzsCLnhq",
        "outputId": "af901def-d263-42d2-973c-49aa4d7760c3"
      },
      "source": [
        "from google.colab import drive\n",
        "drive.mount('/content/gdrive')"
      ],
      "execution_count": null,
      "outputs": [
        {
          "output_type": "stream",
          "text": [
            "Mounted at /content/gdrive\n"
          ],
          "name": "stdout"
        }
      ]
    },
    {
      "cell_type": "code",
      "metadata": {
        "id": "N_iDm8c9OzSv"
      },
      "source": [
        "!unzip gdrive/My\\ Drive/Binary.zip > /dev/null"
      ],
      "execution_count": null,
      "outputs": []
    },
    {
      "cell_type": "code",
      "metadata": {
        "id": "ybhj3wLj9-l_"
      },
      "source": [
        "from keras import models\n",
        "from keras import layers\n",
        "from keras.layers import Dense, Conv2D, MaxPooling2D, Flatten, GlobalAveragePooling2D, InputLayer\n",
        "from keras.models import Model\n",
        "from keras.preprocessing.image import ImageDataGenerator, load_img, img_to_array, array_to_img\n",
        "import tensorflow as tf"
      ],
      "execution_count": null,
      "outputs": []
    },
    {
      "cell_type": "code",
      "metadata": {
        "colab": {
          "base_uri": "https://localhost:8080/"
        },
        "id": "xZcIA6ZvO-_d",
        "outputId": "08ea8b6b-03bb-4bb5-e135-26eda473cc90"
      },
      "source": [
        "conv_base = tf.keras.applications.VGG16(\n",
        "    include_top=False,\n",
        "    weights=\"imagenet\", input_shape=(150,150,3)\n",
        ")"
      ],
      "execution_count": null,
      "outputs": [
        {
          "output_type": "stream",
          "text": [
            "Downloading data from https://storage.googleapis.com/tensorflow/keras-applications/vgg16/vgg16_weights_tf_dim_ordering_tf_kernels_notop.h5\n",
            "58892288/58889256 [==============================] - 1s 0us/step\n"
          ],
          "name": "stdout"
        }
      ]
    },
    {
      "cell_type": "code",
      "metadata": {
        "id": "Q2Hghue6PB-W"
      },
      "source": [
        "train_dir = '/content/Binary/train'\n",
        "validation_dir = '/content/Binary/validation'\n",
        "test_dir = '/content/Binary/test'"
      ],
      "execution_count": null,
      "outputs": []
    },
    {
      "cell_type": "code",
      "metadata": {
        "colab": {
          "base_uri": "https://localhost:8080/"
        },
        "id": "r5L_7GCZ-Dob",
        "outputId": "5fa801c7-a39b-413b-ea71-1bf9d7b681ad"
      },
      "source": [
        "import numpy as np\n",
        "\n",
        "datagen = ImageDataGenerator(rescale=1./255)\n",
        "batch_size = 20\n",
        "\n",
        "def extract_features(directory, sample_count):\n",
        "    features = np.zeros(shape=(sample_count, 4, 4, 512))\n",
        "    labels = np.zeros(shape=(sample_count))\n",
        "    generator = datagen.flow_from_directory(\n",
        "        directory,\n",
        "        target_size=(150, 150),\n",
        "        batch_size=batch_size,\n",
        "        class_mode='binary')\n",
        "    i = 0\n",
        "    for inputs_batch, labels_batch in generator:\n",
        "        features_batch = conv_base.predict(inputs_batch)\n",
        "        features[i * batch_size : (i + 1) * batch_size] = features_batch\n",
        "        labels[i * batch_size : (i + 1) * batch_size] = labels_batch\n",
        "        i += 1\n",
        "        if i * batch_size >= sample_count:\n",
        "            # Note that since generators yield data indefinitely in a loop,\n",
        "            # we must `break` after every image has been seen once.\n",
        "            break\n",
        "    return features, labels\n",
        "\n",
        "train_features, train_labels = extract_features(train_dir, 6400)"
      ],
      "execution_count": null,
      "outputs": [
        {
          "output_type": "stream",
          "text": [
            "Found 6400 images belonging to 2 classes.\n"
          ],
          "name": "stdout"
        }
      ]
    },
    {
      "cell_type": "code",
      "metadata": {
        "id": "Mb6Dj2Bc-bDk",
        "colab": {
          "base_uri": "https://localhost:8080/"
        },
        "outputId": "4f78b780-a22f-498d-e9ae-c472da12af11"
      },
      "source": [
        "validation_features, validation_labels = extract_features(validation_dir, 1600)\n",
        "test_features, test_labels = extract_features(test_dir, 2000)"
      ],
      "execution_count": null,
      "outputs": [
        {
          "output_type": "stream",
          "text": [
            "Found 1600 images belonging to 2 classes.\n",
            "Found 2000 images belonging to 2 classes.\n"
          ],
          "name": "stdout"
        }
      ]
    },
    {
      "cell_type": "code",
      "metadata": {
        "id": "F1h5JiGkEhd_"
      },
      "source": [
        "train_features = np.reshape(train_features, (6400, 4 * 4 * 512))\n",
        "validation_features = np.reshape(validation_features, (1600, 4 * 4 * 512))\n",
        "test_features = np.reshape(test_features, (2000, 4 * 4 * 512))"
      ],
      "execution_count": null,
      "outputs": []
    },
    {
      "cell_type": "code",
      "metadata": {
        "colab": {
          "base_uri": "https://localhost:8080/"
        },
        "id": "-67k3yCSEzoO",
        "outputId": "fa8f5f8f-da02-4364-8bd2-a8d1d8761081"
      },
      "source": [
        "from keras import models\n",
        "from keras import layers\n",
        "from keras import optimizers\n",
        "\n",
        "model = models.Sequential()\n",
        "model.add(layers.Dense(256, activation='relu', input_dim=4 * 4 * 512))\n",
        "model.add(layers.Dropout(0.5))\n",
        "model.add(layers.Dense(1, activation='sigmoid'))\n",
        "\n",
        "model.compile(optimizer=optimizers.Adam(learning_rate=0.0001),\n",
        "              loss='binary_crossentropy',\n",
        "              metrics=['acc'])\n",
        "\n",
        "history = model.fit(train_features, train_labels,\n",
        "                    epochs=30,\n",
        "                    batch_size=20,\n",
        "                    validation_data=(validation_features, validation_labels))"
      ],
      "execution_count": null,
      "outputs": [
        {
          "output_type": "stream",
          "text": [
            "Epoch 1/30\n",
            "320/320 [==============================] - 16s 6ms/step - loss: 0.3205 - acc: 0.8575 - val_loss: 0.1748 - val_acc: 0.9294\n",
            "Epoch 2/30\n",
            "320/320 [==============================] - 2s 5ms/step - loss: 0.1609 - acc: 0.9391 - val_loss: 0.1333 - val_acc: 0.9494\n",
            "Epoch 3/30\n",
            "320/320 [==============================] - 2s 5ms/step - loss: 0.1380 - acc: 0.9466 - val_loss: 0.1342 - val_acc: 0.9500\n",
            "Epoch 4/30\n",
            "320/320 [==============================] - 2s 5ms/step - loss: 0.1140 - acc: 0.9541 - val_loss: 0.1089 - val_acc: 0.9606\n",
            "Epoch 5/30\n",
            "320/320 [==============================] - 1s 4ms/step - loss: 0.1033 - acc: 0.9619 - val_loss: 0.1035 - val_acc: 0.9606\n",
            "Epoch 6/30\n",
            "320/320 [==============================] - 2s 5ms/step - loss: 0.0915 - acc: 0.9651 - val_loss: 0.1039 - val_acc: 0.9594\n",
            "Epoch 7/30\n",
            "320/320 [==============================] - 1s 4ms/step - loss: 0.0869 - acc: 0.9669 - val_loss: 0.0927 - val_acc: 0.9694\n",
            "Epoch 8/30\n",
            "320/320 [==============================] - 2s 5ms/step - loss: 0.0682 - acc: 0.9763 - val_loss: 0.0895 - val_acc: 0.9700\n",
            "Epoch 9/30\n",
            "320/320 [==============================] - 1s 4ms/step - loss: 0.0611 - acc: 0.9797 - val_loss: 0.0894 - val_acc: 0.9663\n",
            "Epoch 10/30\n",
            "320/320 [==============================] - 2s 5ms/step - loss: 0.0605 - acc: 0.9813 - val_loss: 0.0794 - val_acc: 0.9712\n",
            "Epoch 11/30\n",
            "320/320 [==============================] - 1s 4ms/step - loss: 0.0527 - acc: 0.9838 - val_loss: 0.0886 - val_acc: 0.9650\n",
            "Epoch 12/30\n",
            "320/320 [==============================] - 1s 4ms/step - loss: 0.0458 - acc: 0.9831 - val_loss: 0.0782 - val_acc: 0.9694\n",
            "Epoch 13/30\n",
            "320/320 [==============================] - 1s 4ms/step - loss: 0.0383 - acc: 0.9903 - val_loss: 0.0717 - val_acc: 0.9725\n",
            "Epoch 14/30\n",
            "320/320 [==============================] - 2s 5ms/step - loss: 0.0341 - acc: 0.9894 - val_loss: 0.0681 - val_acc: 0.9762\n",
            "Epoch 15/30\n",
            "320/320 [==============================] - 1s 4ms/step - loss: 0.0272 - acc: 0.9930 - val_loss: 0.0805 - val_acc: 0.9712\n",
            "Epoch 16/30\n",
            "320/320 [==============================] - 2s 5ms/step - loss: 0.0352 - acc: 0.9896 - val_loss: 0.0710 - val_acc: 0.9725\n",
            "Epoch 17/30\n",
            "320/320 [==============================] - 1s 4ms/step - loss: 0.0240 - acc: 0.9943 - val_loss: 0.0642 - val_acc: 0.9787\n",
            "Epoch 18/30\n",
            "320/320 [==============================] - 2s 5ms/step - loss: 0.0211 - acc: 0.9953 - val_loss: 0.0835 - val_acc: 0.9694\n",
            "Epoch 19/30\n",
            "320/320 [==============================] - 1s 4ms/step - loss: 0.0212 - acc: 0.9941 - val_loss: 0.0629 - val_acc: 0.9756\n",
            "Epoch 20/30\n",
            "320/320 [==============================] - 2s 5ms/step - loss: 0.0167 - acc: 0.9962 - val_loss: 0.0654 - val_acc: 0.9756\n",
            "Epoch 21/30\n",
            "320/320 [==============================] - 1s 4ms/step - loss: 0.0160 - acc: 0.9968 - val_loss: 0.0653 - val_acc: 0.9750\n",
            "Epoch 22/30\n",
            "320/320 [==============================] - 2s 5ms/step - loss: 0.0127 - acc: 0.9987 - val_loss: 0.0667 - val_acc: 0.9787\n",
            "Epoch 23/30\n",
            "320/320 [==============================] - 2s 5ms/step - loss: 0.0128 - acc: 0.9976 - val_loss: 0.0639 - val_acc: 0.9775\n",
            "Epoch 24/30\n",
            "320/320 [==============================] - 1s 4ms/step - loss: 0.0141 - acc: 0.9971 - val_loss: 0.0682 - val_acc: 0.9775\n",
            "Epoch 25/30\n",
            "320/320 [==============================] - 2s 5ms/step - loss: 0.0130 - acc: 0.9956 - val_loss: 0.0772 - val_acc: 0.9756\n",
            "Epoch 26/30\n",
            "320/320 [==============================] - 1s 4ms/step - loss: 0.0123 - acc: 0.9973 - val_loss: 0.0716 - val_acc: 0.9769\n",
            "Epoch 27/30\n",
            "320/320 [==============================] - 1s 4ms/step - loss: 0.0084 - acc: 0.9985 - val_loss: 0.0804 - val_acc: 0.9725\n",
            "Epoch 28/30\n",
            "320/320 [==============================] - 2s 5ms/step - loss: 0.0092 - acc: 0.9985 - val_loss: 0.0744 - val_acc: 0.9762\n",
            "Epoch 29/30\n",
            "320/320 [==============================] - 1s 4ms/step - loss: 0.0071 - acc: 0.9993 - val_loss: 0.0677 - val_acc: 0.9756\n",
            "Epoch 30/30\n",
            "320/320 [==============================] - 2s 5ms/step - loss: 0.0053 - acc: 0.9996 - val_loss: 0.0669 - val_acc: 0.9762\n"
          ],
          "name": "stdout"
        }
      ]
    },
    {
      "cell_type": "code",
      "metadata": {
        "id": "A15uCRorE7Y6"
      },
      "source": [
        "from keras import models\n",
        "from keras import layers\n",
        "\n",
        "model = models.Sequential()\n",
        "model.add(conv_base)\n",
        "model.add(layers.Flatten())\n",
        "model.add(layers.Dense(256, activation='relu'))\n",
        "model.add(layers.Dense(1, activation='sigmoid'))"
      ],
      "execution_count": null,
      "outputs": []
    },
    {
      "cell_type": "code",
      "metadata": {
        "id": "L28D6Ju-GqEX"
      },
      "source": [
        "\n",
        "conv_base.trainable = False"
      ],
      "execution_count": null,
      "outputs": []
    },
    {
      "cell_type": "code",
      "metadata": {
        "colab": {
          "base_uri": "https://localhost:8080/"
        },
        "id": "0Eevc-9GGrdw",
        "outputId": "b0c0db2f-c5b1-479b-e45e-ca70660453ce"
      },
      "source": [
        "train_datagen = ImageDataGenerator(\n",
        "      rescale=1./255,\n",
        "      rotation_range=40,\n",
        "      width_shift_range=0.2,\n",
        "      height_shift_range=0.2,\n",
        "      shear_range=0.2,\n",
        "      zoom_range=0.2,\n",
        "      horizontal_flip=True,\n",
        "      fill_mode='nearest')\n",
        "\n",
        "# Note that the validation data should not be augmented!\n",
        "test_datagen = ImageDataGenerator(rescale=1./255)\n",
        "\n",
        "train_generator = train_datagen.flow_from_directory(\n",
        "        # This is the target directory\n",
        "        train_dir,\n",
        "        # All images will be resized to 150x150\n",
        "        target_size=(150, 150),\n",
        "        batch_size=20,\n",
        "        # Since we use binary_crossentropy loss, we need binary labels\n",
        "        class_mode='binary')\n",
        "\n",
        "validation_generator = test_datagen.flow_from_directory(\n",
        "        validation_dir,\n",
        "        target_size=(150, 150),\n",
        "        batch_size=20,\n",
        "        class_mode='binary')\n",
        "\n",
        "model.compile(loss='binary_crossentropy',\n",
        "              optimizer=optimizers.Adam(learning_rate=0.0001),\n",
        "              metrics=['acc'])\n",
        "\n",
        "history = model.fit(\n",
        "      train_generator,\n",
        "      steps_per_epoch=50,\n",
        "      epochs=20,\n",
        "      validation_data=validation_generator,\n",
        "      validation_steps=20,\n",
        "      verbose=1)"
      ],
      "execution_count": null,
      "outputs": [
        {
          "output_type": "stream",
          "text": [
            "Found 6400 images belonging to 2 classes.\n",
            "Found 1600 images belonging to 2 classes.\n",
            "Epoch 1/20\n",
            "50/50 [==============================] - 28s 550ms/step - loss: 0.2036 - acc: 0.9174 - val_loss: 0.1488 - val_acc: 0.9450\n",
            "Epoch 2/20\n",
            "50/50 [==============================] - 27s 536ms/step - loss: 0.2254 - acc: 0.9117 - val_loss: 0.1579 - val_acc: 0.9460\n",
            "Epoch 3/20\n",
            "50/50 [==============================] - 27s 540ms/step - loss: 0.1829 - acc: 0.9269 - val_loss: 0.1936 - val_acc: 0.9270\n",
            "Epoch 4/20\n",
            "50/50 [==============================] - 27s 542ms/step - loss: 0.1822 - acc: 0.9197 - val_loss: 0.1706 - val_acc: 0.9330\n",
            "Epoch 5/20\n",
            "50/50 [==============================] - 26s 532ms/step - loss: 0.2165 - acc: 0.9131 - val_loss: 0.1477 - val_acc: 0.9510\n",
            "Epoch 6/20\n",
            "50/50 [==============================] - 27s 534ms/step - loss: 0.1699 - acc: 0.9282 - val_loss: 0.1457 - val_acc: 0.9470\n",
            "Epoch 7/20\n",
            "50/50 [==============================] - 27s 541ms/step - loss: 0.1692 - acc: 0.9340 - val_loss: 0.1380 - val_acc: 0.9470\n",
            "Epoch 8/20\n",
            "50/50 [==============================] - 27s 539ms/step - loss: 0.1638 - acc: 0.9313 - val_loss: 0.2013 - val_acc: 0.9220\n",
            "Epoch 9/20\n",
            "50/50 [==============================] - 26s 533ms/step - loss: 0.1798 - acc: 0.9284 - val_loss: 0.1161 - val_acc: 0.9620\n",
            "Epoch 10/20\n",
            "50/50 [==============================] - 27s 534ms/step - loss: 0.1994 - acc: 0.9150 - val_loss: 0.1422 - val_acc: 0.9500\n",
            "Epoch 11/20\n",
            "50/50 [==============================] - 27s 537ms/step - loss: 0.1651 - acc: 0.9326 - val_loss: 0.1495 - val_acc: 0.9500\n",
            "Epoch 12/20\n",
            "50/50 [==============================] - 26s 528ms/step - loss: 0.1836 - acc: 0.9244 - val_loss: 0.1425 - val_acc: 0.9460\n",
            "Epoch 13/20\n",
            "50/50 [==============================] - 27s 536ms/step - loss: 0.1852 - acc: 0.9168 - val_loss: 0.1381 - val_acc: 0.9480\n",
            "Epoch 14/20\n",
            "50/50 [==============================] - 27s 532ms/step - loss: 0.1980 - acc: 0.9147 - val_loss: 0.1448 - val_acc: 0.9460\n",
            "Epoch 15/20\n",
            "50/50 [==============================] - 26s 527ms/step - loss: 0.1498 - acc: 0.9303 - val_loss: 0.1619 - val_acc: 0.9380\n",
            "Epoch 16/20\n",
            "50/50 [==============================] - 27s 534ms/step - loss: 0.1331 - acc: 0.9507 - val_loss: 0.1313 - val_acc: 0.9520\n",
            "Epoch 17/20\n",
            "50/50 [==============================] - 26s 526ms/step - loss: 0.1664 - acc: 0.9404 - val_loss: 0.1169 - val_acc: 0.9600\n",
            "Epoch 18/20\n",
            "50/50 [==============================] - 27s 534ms/step - loss: 0.1472 - acc: 0.9449 - val_loss: 0.1311 - val_acc: 0.9560\n",
            "Epoch 19/20\n",
            "50/50 [==============================] - 27s 535ms/step - loss: 0.2010 - acc: 0.9241 - val_loss: 0.1609 - val_acc: 0.9390\n",
            "Epoch 20/20\n",
            "50/50 [==============================] - 27s 541ms/step - loss: 0.1483 - acc: 0.9344 - val_loss: 0.1197 - val_acc: 0.9580\n"
          ],
          "name": "stdout"
        }
      ]
    },
    {
      "cell_type": "code",
      "metadata": {
        "colab": {
          "base_uri": "https://localhost:8080/",
          "height": 545
        },
        "id": "TzGRNVP0G8Nw",
        "outputId": "71704d46-a126-43e3-c483-1c014d6c9bf7"
      },
      "source": [
        "import matplotlib.pyplot as plt\n",
        "acc = history.history['acc']\n",
        "val_acc = history.history['val_acc']\n",
        "loss = history.history['loss']\n",
        "val_loss = history.history['val_loss']\n",
        "\n",
        "epochs = range(len(acc))\n",
        "\n",
        "plt.plot(epochs, acc, 'bo', label='Training acc')\n",
        "plt.plot(epochs, val_acc, 'b', label='Validation acc')\n",
        "plt.title('Training and validation accuracy')\n",
        "plt.legend()\n",
        "\n",
        "plt.figure()\n",
        "\n",
        "plt.plot(epochs, loss, 'bo', label='Training loss')\n",
        "plt.plot(epochs, val_loss, 'b', label='Validation loss')\n",
        "plt.title('Training and validation loss')\n",
        "plt.legend()\n",
        "\n",
        "plt.show()"
      ],
      "execution_count": null,
      "outputs": [
        {
          "output_type": "display_data",
          "data": {
            "image/png": "[encoded data removed]",
            "text/plain": [
              "<Figure size 432x288 with 1 Axes>"
            ]
          },
          "metadata": {
            "tags": [],
            "needs_background": "light"
          }
        },
        {
          "output_type": "display_data",
          "data": {
            "image/png": "[encoded data removed]",
            "text/plain": [
              "<Figure size 432x288 with 1 Axes>"
            ]
          },
          "metadata": {
            "tags": [],
            "needs_background": "light"
          }
        }
      ]
    },
    {
      "cell_type": "code",
      "metadata": {
        "id": "Hbyew9UVNAHc"
      },
      "source": [
        "\n",
        "conv_base.trainable = True\n",
        "\n",
        "set_trainable = False\n",
        "for layer in conv_base.layers:\n",
        "    if layer.name == 'block5_conv1':\n",
        "        set_trainable = True\n",
        "    if set_trainable:\n",
        "        layer.trainable = True\n",
        "    else:\n",
        "        layer.trainable = False"
      ],
      "execution_count": null,
      "outputs": []
    },
    {
      "cell_type": "code",
      "metadata": {
        "colab": {
          "base_uri": "https://localhost:8080/"
        },
        "id": "G5M8fhenNI3U",
        "outputId": "b292445c-69d4-4e6c-8fc7-5dbc5ee1c7fe"
      },
      "source": [
        "model.compile(loss='binary_crossentropy',\n",
        "              optimizer=optimizers.Adam(learning_rate=1e-5),\n",
        "              metrics=['acc'])\n",
        "\n",
        "history = model.fit(\n",
        "      train_generator,\n",
        "      steps_per_epoch=50,\n",
        "      epochs=20,\n",
        "      validation_data=validation_generator,\n",
        "      validation_steps=20)"
      ],
      "execution_count": null,
      "outputs": [
        {
          "output_type": "stream",
          "text": [
            "/usr/local/lib/python3.7/dist-packages/keras/engine/training.py:1915: UserWarning: `Model.fit_generator` is deprecated and will be removed in a future version. Please use `Model.fit`, which supports generators.\n",
            "  warnings.warn('`Model.fit_generator` is deprecated and '\n"
          ],
          "name": "stderr"
        },
        {
          "output_type": "stream",
          "text": [
            "Epoch 1/20\n",
            "50/50 [==============================] - 24s 425ms/step - loss: 0.1515 - acc: 0.9366 - val_loss: 0.0978 - val_acc: 0.9675\n",
            "Epoch 2/20\n",
            "50/50 [==============================] - 21s 424ms/step - loss: 0.2271 - acc: 0.9153 - val_loss: 0.0830 - val_acc: 0.9725\n",
            "Epoch 3/20\n",
            "50/50 [==============================] - 21s 429ms/step - loss: 0.1563 - acc: 0.9419 - val_loss: 0.1737 - val_acc: 0.9425\n",
            "Epoch 4/20\n",
            "50/50 [==============================] - 21s 421ms/step - loss: 0.1444 - acc: 0.9531 - val_loss: 0.1009 - val_acc: 0.9575\n",
            "Epoch 5/20\n",
            "50/50 [==============================] - 21s 427ms/step - loss: 0.1391 - acc: 0.9338 - val_loss: 0.1188 - val_acc: 0.9625\n",
            "Epoch 6/20\n",
            "50/50 [==============================] - 21s 430ms/step - loss: 0.1220 - acc: 0.9529 - val_loss: 0.1517 - val_acc: 0.9450\n",
            "Epoch 7/20\n",
            "50/50 [==============================] - 34s 681ms/step - loss: 0.1479 - acc: 0.9381 - val_loss: 0.0729 - val_acc: 0.9725\n",
            "Epoch 8/20\n",
            "50/50 [==============================] - 21s 418ms/step - loss: 0.1384 - acc: 0.9417 - val_loss: 0.1259 - val_acc: 0.9550\n",
            "Epoch 9/20\n",
            "50/50 [==============================] - 21s 424ms/step - loss: 0.1300 - acc: 0.9464 - val_loss: 0.0836 - val_acc: 0.9700\n",
            "Epoch 10/20\n",
            "50/50 [==============================] - 21s 425ms/step - loss: 0.1331 - acc: 0.9443 - val_loss: 0.1196 - val_acc: 0.9525\n",
            "Epoch 11/20\n",
            "50/50 [==============================] - 21s 418ms/step - loss: 0.1261 - acc: 0.9480 - val_loss: 0.1119 - val_acc: 0.9625\n",
            "Epoch 12/20\n",
            "50/50 [==============================] - 21s 416ms/step - loss: 0.1310 - acc: 0.9533 - val_loss: 0.0939 - val_acc: 0.9675\n",
            "Epoch 13/20\n",
            "50/50 [==============================] - 21s 418ms/step - loss: 0.0968 - acc: 0.9598 - val_loss: 0.1098 - val_acc: 0.9500\n",
            "Epoch 14/20\n",
            "50/50 [==============================] - 21s 416ms/step - loss: 0.1074 - acc: 0.9533 - val_loss: 0.0754 - val_acc: 0.9625\n",
            "Epoch 15/20\n",
            "50/50 [==============================] - 21s 427ms/step - loss: 0.0858 - acc: 0.9674 - val_loss: 0.0818 - val_acc: 0.9650\n",
            "Epoch 16/20\n",
            "50/50 [==============================] - 21s 420ms/step - loss: 0.1183 - acc: 0.9562 - val_loss: 0.0973 - val_acc: 0.9575\n",
            "Epoch 17/20\n",
            "50/50 [==============================] - 21s 422ms/step - loss: 0.1100 - acc: 0.9595 - val_loss: 0.0628 - val_acc: 0.9775\n",
            "Epoch 18/20\n",
            "50/50 [==============================] - 21s 417ms/step - loss: 0.0820 - acc: 0.9711 - val_loss: 0.0665 - val_acc: 0.9825\n",
            "Epoch 19/20\n",
            "50/50 [==============================] - 21s 419ms/step - loss: 0.1004 - acc: 0.9656 - val_loss: 0.0634 - val_acc: 0.9775\n",
            "Epoch 20/20\n",
            "50/50 [==============================] - 21s 421ms/step - loss: 0.1193 - acc: 0.9635 - val_loss: 0.0865 - val_acc: 0.9725\n"
          ],
          "name": "stdout"
        }
      ]
    },
    {
      "cell_type": "code",
      "metadata": {
        "colab": {
          "base_uri": "https://localhost:8080/"
        },
        "id": "rGOWrsKJNTvy",
        "outputId": "8c20c241-8c26-4248-988a-b236f5717f72"
      },
      "source": [
        "\n",
        "test_generator = test_datagen.flow_from_directory(\n",
        "        test_dir,\n",
        "        target_size=(150, 150),\n",
        "        batch_size=20,\n",
        "        class_mode='binary')\n",
        "\n",
        "test_loss, test_acc = model.evaluate(test_generator, steps=50)\n",
        "print('test acc:', test_acc)"
      ],
      "execution_count": null,
      "outputs": [
        {
          "output_type": "stream",
          "text": [
            "Found 2000 images belonging to 2 classes.\n"
          ],
          "name": "stdout"
        },
        {
          "output_type": "stream",
          "text": [
            "/usr/local/lib/python3.7/dist-packages/keras/engine/training.py:1948: UserWarning: `Model.evaluate_generator` is deprecated and will be removed in a future version. Please use `Model.evaluate`, which supports generators.\n",
            "  warnings.warn('`Model.evaluate_generator` is deprecated and '\n"
          ],
          "name": "stderr"
        },
        {
          "output_type": "stream",
          "text": [
            "test acc: 0.9599999785423279\n"
          ],
          "name": "stdout"
        }
      ]
    },
    {
      "cell_type": "code",
      "metadata": {
        "id": "b8iw0BpwQKTf"
      },
      "source": [
        "import cv2\n",
        "scc = cv2.imread('/content/Binary/test/lung_scc/lungscc4650.jpeg')\n",
        "scc= cv2.resize(scc, (150,150))\n",
        "scc= np.reshape(scc, [1,150,150,3])"
      ],
      "execution_count": null,
      "outputs": []
    },
    {
      "cell_type": "code",
      "metadata": {
        "colab": {
          "base_uri": "https://localhost:8080/"
        },
        "id": "EnzwYe3RQftj",
        "outputId": "f9aa6937-30f0-458d-e637-a8f66dccd39c"
      },
      "source": [
        "np.argmax(model.predict(scc), axis=-1)"
      ],
      "execution_count": null,
      "outputs": [
        {
          "output_type": "execute_result",
          "data": {
            "text/plain": [
              "array([0])"
            ]
          },
          "metadata": {
            "tags": []
          },
          "execution_count": 30
        }
      ]
    },
    {
      "cell_type": "code",
      "metadata": {
        "colab": {
          "base_uri": "https://localhost:8080/"
        },
        "id": "qgFMMbwPQnNx",
        "outputId": "1f9f132e-6823-4c01-e24c-101e57593108"
      },
      "source": [
        "aca = cv2.imread('/content/Binary/test/lung_aca/lungaca4500.jpeg')\n",
        "aca= cv2.resize(aca, (150,150))\n",
        "aca= np.reshape(aca, [1,150,150,3])\n",
        "np.argmax(model.predict(aca), axis=-1)"
      ],
      "execution_count": null,
      "outputs": [
        {
          "output_type": "execute_result",
          "data": {
            "text/plain": [
              "array([0])"
            ]
          },
          "metadata": {
            "tags": []
          },
          "execution_count": 28
        }
      ]
    },
    {
      "cell_type": "code",
      "metadata": {
        "colab": {
          "base_uri": "https://localhost:8080/"
        },
        "id": "y01A-5fGQ3-j",
        "outputId": "372c7583-ba2f-4803-f23d-f523d4381cfb"
      },
      "source": [
        "from sklearn.metrics import confusion_matrix\n",
        "Y_pred = model.predict(validation_generator, test_generator.samples / test_generator.batch_size)\n",
        "y_pred = np.argmax(Y_pred, axis=1)\n",
        "print('Confusion Matrix')\n",
        "print(confusion_matrix(validation_generator.classes, y_pred))"
      ],
      "execution_count": null,
      "outputs": [
        {
          "output_type": "stream",
          "text": [
            "Confusion Matrix\n",
            "[[800   0]\n",
            " [800   0]]\n"
          ],
          "name": "stdout"
        }
      ]
    },
    {
      "cell_type": "code",
      "metadata": {
        "id": "Za7T54JgRwFb",
        "colab": {
          "base_uri": "https://localhost:8080/",
          "height": 132
        },
        "outputId": "4c4efd40-bed7-42cd-dff0-72552de7096e"
      },
      "source": [
        ""
      ],
      "execution_count": null,
      "outputs": [
        {
          "output_type": "error",
          "ename": "SyntaxError",
          "evalue": "ignored",
          "traceback": [
            "\u001b[0;36m  File \u001b[0;32m\"<ipython-input-36-afb777da90d1>\"\u001b[0;36m, line \u001b[0;32m25\u001b[0m\n\u001b[0;31m    model.add(Dropout(0.2))\u001b[0m\n\u001b[0m        ^\u001b[0m\n\u001b[0;31mSyntaxError\u001b[0m\u001b[0;31m:\u001b[0m invalid syntax\n"
          ]
        }
      ]
    },
    {
      "cell_type": "code",
      "metadata": {
        "id": "YbqxM1c0XOXX"
      },
      "source": [
        ""
      ],
      "execution_count": null,
      "outputs": []
    }
  ]
}
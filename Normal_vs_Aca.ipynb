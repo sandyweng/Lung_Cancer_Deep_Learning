{
  "nbformat": 4,
  "nbformat_minor": 0,
  "metadata": {
    "colab": {
      "name": "Normal_vs_Aca.ipynb",
      "provenance": [],
      "authorship_tag": "ABX9TyMtmwDCZREldkgKpTQTg5ga",
      "include_colab_link": true
    },
    "kernelspec": {
      "name": "python3",
      "display_name": "Python 3"
    },
    "language_info": {
      "name": "python"
    }
  },
  "cells": [
    {
      "cell_type": "markdown",
      "metadata": {
        "id": "view-in-github",
        "colab_type": "text"
      },
      "source": [
        "<a href=\"https://colab.research.google.com/github/sandyweng/Lung_Cancer_Deep_Learning/blob/main/Normal_vs_Aca.ipynb\" target=\"_parent\"><img src=\"https://colab.research.google.com/assets/colab-badge.svg\" alt=\"Open In Colab\"/></a>"
      ]
    },
    {
      "cell_type": "code",
      "metadata": {
        "colab": {
          "base_uri": "https://localhost:8080/"
        },
        "id": "AXgSvtgzrA4k",
        "outputId": "82ee91ea-3bc1-4c5b-f78f-f3261042d632"
      },
      "source": [
        "from google.colab import drive\n",
        "drive.mount('/content/gdrive')"
      ],
      "execution_count": null,
      "outputs": [
        {
          "output_type": "stream",
          "text": [
            "Mounted at /content/gdrive\n"
          ],
          "name": "stdout"
        }
      ]
    },
    {
      "cell_type": "code",
      "metadata": {
        "id": "tgRBpVrJ7q17"
      },
      "source": [
        "from keras import models\n",
        "from keras import layers\n",
        "from keras.layers import Dense, Conv2D, MaxPooling2D, Flatten, GlobalAveragePooling2D, InputLayer, Dropout\n",
        "from keras.models import Model, Sequential\n",
        "from keras.layers.normalization import BatchNormalization\n",
        "from keras.callbacks import EarlyStopping\n",
        "from sklearn.metrics import accuracy_score\n",
        "import tensorflow as tf\n",
        "from keras.preprocessing.image import ImageDataGenerator, load_img, img_to_array, array_to_img"
      ],
      "execution_count": null,
      "outputs": []
    },
    {
      "cell_type": "code",
      "metadata": {
        "id": "uqReW_DN7umy"
      },
      "source": [
        "!unzip gdrive/My\\ Drive/Aca_Normal.zip > /dev/null"
      ],
      "execution_count": null,
      "outputs": []
    },
    {
      "cell_type": "code",
      "metadata": {
        "id": "ogGOkK5i8GhP"
      },
      "source": [
        "train_dir = '/content/Aca_Normal/train'\n",
        "validation_dir = '/content/Aca_Normal/validation'\n",
        "test_dir = '/content/Aca_Normal/test'"
      ],
      "execution_count": null,
      "outputs": []
    },
    {
      "cell_type": "code",
      "metadata": {
        "id": "dOKyLsUK76sR",
        "colab": {
          "base_uri": "https://localhost:8080/"
        },
        "outputId": "5328f039-4100-4512-be06-489015460848"
      },
      "source": [
        "conv_base = tf.keras.applications.VGG16(\n",
        "    include_top=False,\n",
        "    weights=\"imagenet\",\n",
        "   input_shape=(150,150,3)\n",
        ")\n"
      ],
      "execution_count": null,
      "outputs": [
        {
          "output_type": "stream",
          "text": [
            "Downloading data from https://storage.googleapis.com/tensorflow/keras-applications/vgg16/vgg16_weights_tf_dim_ordering_tf_kernels_notop.h5\n",
            "58892288/58889256 [==============================] - 1s 0us/step\n"
          ],
          "name": "stdout"
        }
      ]
    },
    {
      "cell_type": "code",
      "metadata": {
        "colab": {
          "base_uri": "https://localhost:8080/"
        },
        "id": "g5WxDxRE8ZfH",
        "outputId": "da5fd73e-72a2-4399-fbf4-4b659283f45f"
      },
      "source": [
        "conv_base.summary()"
      ],
      "execution_count": null,
      "outputs": [
        {
          "output_type": "stream",
          "text": [
            "Model: \"vgg16\"\n",
            "_________________________________________________________________\n",
            "Layer (type)                 Output Shape              Param #   \n",
            "=================================================================\n",
            "input_1 (InputLayer)         [(None, 150, 150, 3)]     0         \n",
            "_________________________________________________________________\n",
            "block1_conv1 (Conv2D)        (None, 150, 150, 64)      1792      \n",
            "_________________________________________________________________\n",
            "block1_conv2 (Conv2D)        (None, 150, 150, 64)      36928     \n",
            "_________________________________________________________________\n",
            "block1_pool (MaxPooling2D)   (None, 75, 75, 64)        0         \n",
            "_________________________________________________________________\n",
            "block2_conv1 (Conv2D)        (None, 75, 75, 128)       73856     \n",
            "_________________________________________________________________\n",
            "block2_conv2 (Conv2D)        (None, 75, 75, 128)       147584    \n",
            "_________________________________________________________________\n",
            "block2_pool (MaxPooling2D)   (None, 37, 37, 128)       0         \n",
            "_________________________________________________________________\n",
            "block3_conv1 (Conv2D)        (None, 37, 37, 256)       295168    \n",
            "_________________________________________________________________\n",
            "block3_conv2 (Conv2D)        (None, 37, 37, 256)       590080    \n",
            "_________________________________________________________________\n",
            "block3_conv3 (Conv2D)        (None, 37, 37, 256)       590080    \n",
            "_________________________________________________________________\n",
            "block3_pool (MaxPooling2D)   (None, 18, 18, 256)       0         \n",
            "_________________________________________________________________\n",
            "block4_conv1 (Conv2D)        (None, 18, 18, 512)       1180160   \n",
            "_________________________________________________________________\n",
            "block4_conv2 (Conv2D)        (None, 18, 18, 512)       2359808   \n",
            "_________________________________________________________________\n",
            "block4_conv3 (Conv2D)        (None, 18, 18, 512)       2359808   \n",
            "_________________________________________________________________\n",
            "block4_pool (MaxPooling2D)   (None, 9, 9, 512)         0         \n",
            "_________________________________________________________________\n",
            "block5_conv1 (Conv2D)        (None, 9, 9, 512)         2359808   \n",
            "_________________________________________________________________\n",
            "block5_conv2 (Conv2D)        (None, 9, 9, 512)         2359808   \n",
            "_________________________________________________________________\n",
            "block5_conv3 (Conv2D)        (None, 9, 9, 512)         2359808   \n",
            "_________________________________________________________________\n",
            "block5_pool (MaxPooling2D)   (None, 4, 4, 512)         0         \n",
            "=================================================================\n",
            "Total params: 14,714,688\n",
            "Trainable params: 14,714,688\n",
            "Non-trainable params: 0\n",
            "_________________________________________________________________\n"
          ],
          "name": "stdout"
        }
      ]
    },
    {
      "cell_type": "code",
      "metadata": {
        "colab": {
          "base_uri": "https://localhost:8080/"
        },
        "id": "Rf1piWZG9BOK",
        "outputId": "6536036e-edd9-4085-c545-5526533a7f91"
      },
      "source": [
        "import numpy as np\n",
        "\n",
        "datagen = ImageDataGenerator(rescale=1./255)\n",
        "batch_size = 20\n",
        "\n",
        "def extract_features(directory, sample_count):\n",
        "    features = np.zeros(shape=(sample_count, 4, 4, 512))\n",
        "    labels = np.zeros(shape=(sample_count))\n",
        "    generator = datagen.flow_from_directory(\n",
        "        directory,\n",
        "        target_size=(150, 150),\n",
        "        batch_size=batch_size,\n",
        "        class_mode='binary')\n",
        "    i = 0\n",
        "    for inputs_batch, labels_batch in generator:\n",
        "        features_batch = conv_base.predict(inputs_batch)\n",
        "        features[i * batch_size : (i + 1) * batch_size] = features_batch\n",
        "        labels[i * batch_size : (i + 1) * batch_size] = labels_batch\n",
        "        i += 1\n",
        "        if i * batch_size >= sample_count:\n",
        "            # Note that since generators yield data indefinitely in a loop,\n",
        "            # we must `break` after every image has been seen once.\n",
        "            break\n",
        "    return features, labels\n",
        "\n",
        "train_features, train_labels = extract_features(train_dir, 6400)"
      ],
      "execution_count": null,
      "outputs": [
        {
          "output_type": "stream",
          "text": [
            "Found 6400 images belonging to 2 classes.\n"
          ],
          "name": "stdout"
        }
      ]
    },
    {
      "cell_type": "code",
      "metadata": {
        "colab": {
          "base_uri": "https://localhost:8080/"
        },
        "id": "jtjXpqDx9Iwk",
        "outputId": "26510669-62a3-4b5d-91cf-aba7d706dea0"
      },
      "source": [
        "validation_features, validation_labels = extract_features(validation_dir, 1600)\n",
        "test_features, test_labels = extract_features(test_dir, 2000)"
      ],
      "execution_count": null,
      "outputs": [
        {
          "output_type": "stream",
          "text": [
            "Found 1600 images belonging to 2 classes.\n",
            "Found 2000 images belonging to 2 classes.\n"
          ],
          "name": "stdout"
        }
      ]
    },
    {
      "cell_type": "code",
      "metadata": {
        "id": "0NXOVFfN9Lpf"
      },
      "source": [
        "train_features = np.reshape(train_features, (6400, 4 * 4 * 512))\n",
        "validation_features = np.reshape(validation_features, (1600, 4 * 4 * 512))\n",
        "\n",
        "test_features = np.reshape(test_features, (2000, 4 * 4 * 512))"
      ],
      "execution_count": null,
      "outputs": []
    },
    {
      "cell_type": "code",
      "metadata": {
        "colab": {
          "base_uri": "https://localhost:8080/"
        },
        "id": "7PanXzXLAQdk",
        "outputId": "609cf4e8-c3a9-47f4-b80a-946790d57f19"
      },
      "source": [
        "# using feature extractions\n",
        "from keras import models\n",
        "from keras import layers\n",
        "from keras import optimizers\n",
        "\n",
        "model = models.Sequential()\n",
        "model.add(layers.Dense(256, activation='relu', input_dim=4 * 4 * 512))\n",
        "model.add(layers.Dropout(0.5))\n",
        "model.add(layers.Dense(1, activation='sigmoid'))\n",
        "\n",
        "model.compile(optimizer=optimizers.Adam(learning_rate=0.0001),\n",
        "              loss='binary_crossentropy',\n",
        "              metrics=['acc'])\n",
        "\n",
        "history = model.fit(train_features, train_labels,\n",
        "                    epochs=50,\n",
        "                    batch_size=20,\n",
        "                    validation_data=(validation_features, validation_labels), callbacks=[tf.keras.callbacks.EarlyStopping(\n",
        "    monitor=\"loss\",\n",
        "    patience=8)])"
      ],
      "execution_count": null,
      "outputs": [
        {
          "output_type": "stream",
          "text": [
            "Epoch 1/50\n",
            "320/320 [==============================] - 19s 15ms/step - loss: 0.2240 - acc: 0.9024 - val_loss: 0.0425 - val_acc: 0.9912\n",
            "Epoch 2/50\n",
            "320/320 [==============================] - 4s 14ms/step - loss: 0.0358 - acc: 0.9898 - val_loss: 0.0318 - val_acc: 0.9919\n",
            "Epoch 3/50\n",
            "320/320 [==============================] - 4s 14ms/step - loss: 0.0210 - acc: 0.9950 - val_loss: 0.0188 - val_acc: 0.9950\n",
            "Epoch 4/50\n",
            "320/320 [==============================] - 4s 14ms/step - loss: 0.0107 - acc: 0.9986 - val_loss: 0.0161 - val_acc: 0.9956\n",
            "Epoch 5/50\n",
            "320/320 [==============================] - 4s 14ms/step - loss: 0.0073 - acc: 0.9997 - val_loss: 0.0126 - val_acc: 0.9962\n",
            "Epoch 6/50\n",
            "320/320 [==============================] - 4s 14ms/step - loss: 0.0051 - acc: 0.9999 - val_loss: 0.0149 - val_acc: 0.9956\n",
            "Epoch 7/50\n",
            "320/320 [==============================] - 4s 14ms/step - loss: 0.0046 - acc: 0.9996 - val_loss: 0.0109 - val_acc: 0.9969\n",
            "Epoch 8/50\n",
            "320/320 [==============================] - 4s 14ms/step - loss: 0.0032 - acc: 1.0000 - val_loss: 0.0102 - val_acc: 0.9975\n",
            "Epoch 9/50\n",
            "320/320 [==============================] - 4s 14ms/step - loss: 0.0021 - acc: 1.0000 - val_loss: 0.0091 - val_acc: 0.9975\n",
            "Epoch 10/50\n",
            "320/320 [==============================] - 4s 14ms/step - loss: 0.0014 - acc: 1.0000 - val_loss: 0.0087 - val_acc: 0.9975\n",
            "Epoch 11/50\n",
            "320/320 [==============================] - 4s 14ms/step - loss: 0.0014 - acc: 1.0000 - val_loss: 0.0084 - val_acc: 0.9981\n",
            "Epoch 12/50\n",
            "320/320 [==============================] - 4s 14ms/step - loss: 0.0017 - acc: 0.9999 - val_loss: 0.0093 - val_acc: 0.9981\n",
            "Epoch 13/50\n",
            "320/320 [==============================] - 4s 14ms/step - loss: 0.0013 - acc: 1.0000 - val_loss: 0.0077 - val_acc: 0.9981\n",
            "Epoch 14/50\n",
            "320/320 [==============================] - 4s 14ms/step - loss: 7.9148e-04 - acc: 1.0000 - val_loss: 0.0082 - val_acc: 0.9981\n",
            "Epoch 15/50\n",
            "320/320 [==============================] - 4s 14ms/step - loss: 6.3064e-04 - acc: 1.0000 - val_loss: 0.0076 - val_acc: 0.9987\n",
            "Epoch 16/50\n",
            "320/320 [==============================] - 4s 14ms/step - loss: 0.0018 - acc: 0.9998 - val_loss: 0.0094 - val_acc: 0.9975\n",
            "Epoch 17/50\n",
            "320/320 [==============================] - 4s 14ms/step - loss: 6.7081e-04 - acc: 1.0000 - val_loss: 0.0146 - val_acc: 0.9969\n",
            "Epoch 18/50\n",
            "320/320 [==============================] - 4s 14ms/step - loss: 3.7520e-04 - acc: 1.0000 - val_loss: 0.0084 - val_acc: 0.9981\n",
            "Epoch 19/50\n",
            "320/320 [==============================] - 4s 14ms/step - loss: 2.9204e-04 - acc: 1.0000 - val_loss: 0.0087 - val_acc: 0.9981\n",
            "Epoch 20/50\n",
            "320/320 [==============================] - 4s 14ms/step - loss: 3.5188e-04 - acc: 1.0000 - val_loss: 0.0096 - val_acc: 0.9981\n",
            "Epoch 21/50\n",
            "320/320 [==============================] - 4s 14ms/step - loss: 0.0030 - acc: 0.9986 - val_loss: 0.0093 - val_acc: 0.9981\n",
            "Epoch 22/50\n",
            "320/320 [==============================] - 4s 14ms/step - loss: 0.0013 - acc: 0.9996 - val_loss: 0.0063 - val_acc: 0.9987\n",
            "Epoch 23/50\n",
            "320/320 [==============================] - 4s 14ms/step - loss: 7.9057e-04 - acc: 1.0000 - val_loss: 0.0060 - val_acc: 0.9987\n",
            "Epoch 24/50\n",
            "320/320 [==============================] - 4s 14ms/step - loss: 5.1136e-04 - acc: 1.0000 - val_loss: 0.0086 - val_acc: 0.9981\n",
            "Epoch 25/50\n",
            "320/320 [==============================] - 4s 14ms/step - loss: 1.0301e-04 - acc: 1.0000 - val_loss: 0.0080 - val_acc: 0.9987\n",
            "Epoch 26/50\n",
            "320/320 [==============================] - 4s 14ms/step - loss: 1.4506e-04 - acc: 1.0000 - val_loss: 0.0086 - val_acc: 0.9981\n",
            "Epoch 27/50\n",
            "320/320 [==============================] - 4s 14ms/step - loss: 2.1140e-04 - acc: 1.0000 - val_loss: 0.0086 - val_acc: 0.9981\n",
            "Epoch 28/50\n",
            "320/320 [==============================] - 4s 14ms/step - loss: 6.1099e-05 - acc: 1.0000 - val_loss: 0.0074 - val_acc: 0.9987\n",
            "Epoch 29/50\n",
            "320/320 [==============================] - 4s 14ms/step - loss: 8.5563e-05 - acc: 1.0000 - val_loss: 0.0088 - val_acc: 0.9981\n",
            "Epoch 30/50\n",
            "320/320 [==============================] - 4s 14ms/step - loss: 7.6595e-05 - acc: 1.0000 - val_loss: 0.0088 - val_acc: 0.9981\n",
            "Epoch 31/50\n",
            "320/320 [==============================] - 4s 14ms/step - loss: 4.2365e-05 - acc: 1.0000 - val_loss: 0.0097 - val_acc: 0.9981\n",
            "Epoch 32/50\n",
            "320/320 [==============================] - 4s 14ms/step - loss: 7.7565e-05 - acc: 1.0000 - val_loss: 0.0082 - val_acc: 0.9987\n",
            "Epoch 33/50\n",
            "320/320 [==============================] - 4s 14ms/step - loss: 3.8997e-05 - acc: 1.0000 - val_loss: 0.0084 - val_acc: 0.9981\n",
            "Epoch 34/50\n",
            "320/320 [==============================] - 4s 14ms/step - loss: 4.6624e-05 - acc: 1.0000 - val_loss: 0.0073 - val_acc: 0.9987\n",
            "Epoch 35/50\n",
            "320/320 [==============================] - 5s 14ms/step - loss: 3.9932e-05 - acc: 1.0000 - val_loss: 0.0091 - val_acc: 0.9981\n",
            "Epoch 36/50\n",
            "320/320 [==============================] - 4s 14ms/step - loss: 1.8837e-05 - acc: 1.0000 - val_loss: 0.0079 - val_acc: 0.9987\n",
            "Epoch 37/50\n",
            "320/320 [==============================] - 4s 14ms/step - loss: 2.6767e-05 - acc: 1.0000 - val_loss: 0.0099 - val_acc: 0.9981\n",
            "Epoch 38/50\n",
            "320/320 [==============================] - 4s 14ms/step - loss: 1.3563e-04 - acc: 1.0000 - val_loss: 0.0172 - val_acc: 0.9962\n",
            "Epoch 39/50\n",
            "320/320 [==============================] - 4s 14ms/step - loss: 0.0015 - acc: 0.9998 - val_loss: 0.0083 - val_acc: 0.9987\n",
            "Epoch 40/50\n",
            "320/320 [==============================] - 4s 14ms/step - loss: 0.0013 - acc: 0.9997 - val_loss: 0.0079 - val_acc: 0.9987\n",
            "Epoch 41/50\n",
            "320/320 [==============================] - 5s 14ms/step - loss: 3.0204e-04 - acc: 1.0000 - val_loss: 0.0088 - val_acc: 0.9981\n",
            "Epoch 42/50\n",
            "320/320 [==============================] - 4s 14ms/step - loss: 5.5789e-05 - acc: 1.0000 - val_loss: 0.0096 - val_acc: 0.9981\n",
            "Epoch 43/50\n",
            "320/320 [==============================] - 4s 14ms/step - loss: 9.2353e-05 - acc: 1.0000 - val_loss: 0.0082 - val_acc: 0.9987\n",
            "Epoch 44/50\n",
            "320/320 [==============================] - 4s 14ms/step - loss: 7.4890e-05 - acc: 1.0000 - val_loss: 0.0094 - val_acc: 0.9987\n"
          ],
          "name": "stdout"
        }
      ]
    },
    {
      "cell_type": "code",
      "metadata": {
        "id": "pDAhLW1dATdY"
      },
      "source": [
        "# with vgg base\n",
        "from keras import models\n",
        "from keras import layers\n",
        "\n",
        "model = models.Sequential()\n",
        "model.add(conv_base)\n",
        "model.add(layers.Flatten())\n",
        "model.add(layers.Dense(256, activation='relu'))\n",
        "model.add(layers.Dense(1, activation='sigmoid'))"
      ],
      "execution_count": null,
      "outputs": []
    },
    {
      "cell_type": "code",
      "metadata": {
        "id": "uUfk6oG8AbWK"
      },
      "source": [
        "conv_base.trainable = False"
      ],
      "execution_count": null,
      "outputs": []
    },
    {
      "cell_type": "code",
      "metadata": {
        "colab": {
          "base_uri": "https://localhost:8080/"
        },
        "id": "DdfBg5-0Ac8G",
        "outputId": "8fc66ec3-0ce1-4297-dd58-3c5a2304bbc3"
      },
      "source": [
        "callback = tf.keras.callbacks.EarlyStopping(monitor='loss', patience=8)\n",
        "\n",
        "train_datagen = ImageDataGenerator(rescale=1./255)\n",
        "\n",
        "# Note that the validation data should not be augmented!\n",
        "test_datagen = ImageDataGenerator(rescale=1./255)\n",
        "\n",
        "train_generator = train_datagen.flow_from_directory(\n",
        "        # This is the target directory\n",
        "        train_dir,\n",
        "        # All images will be resized to 150x150\n",
        "        target_size=(150, 150),\n",
        "        batch_size=20,\n",
        "        # Since we use binary_crossentropy loss, we need binary labels\n",
        "        class_mode='binary', shuffle=False)\n",
        "\n",
        "validation_generator = test_datagen.flow_from_directory(\n",
        "        validation_dir,\n",
        "        target_size=(150, 150),\n",
        "        batch_size=20,\n",
        "        class_mode='binary', shuffle=False)\n",
        "\n",
        "model.compile(loss='binary_crossentropy',\n",
        "              optimizer=optimizers.Adam(learning_rate=0.0001),\n",
        "              metrics=['acc'])\n",
        "\n",
        "history = model.fit(\n",
        "      train_generator,\n",
        "      steps_per_epoch=5,\n",
        "      epochs=5,\n",
        "      validation_data=validation_generator)"
      ],
      "execution_count": null,
      "outputs": [
        {
          "output_type": "stream",
          "text": [
            "Found 6400 images belonging to 2 classes.\n",
            "Found 1600 images belonging to 2 classes.\n",
            "Epoch 1/5\n",
            "5/5 [==============================] - 421s 92s/step - loss: 0.2697 - acc: 0.9047 - val_loss: 0.2116 - val_acc: 0.9069\n",
            "Epoch 2/5\n",
            "5/5 [==============================] - 373s 92s/step - loss: 0.0337 - acc: 1.0000 - val_loss: 0.1220 - val_acc: 0.9538\n",
            "Epoch 3/5\n",
            "5/5 [==============================] - 373s 92s/step - loss: 0.2996 - acc: 0.9333 - val_loss: 0.1562 - val_acc: 0.9356\n",
            "Epoch 4/5\n",
            "5/5 [==============================] - 373s 92s/step - loss: 0.0848 - acc: 0.9753 - val_loss: 0.0935 - val_acc: 0.9700\n",
            "Epoch 5/5\n",
            "5/5 [==============================] - 372s 92s/step - loss: 0.0414 - acc: 0.9946 - val_loss: 0.0903 - val_acc: 0.9700\n"
          ],
          "name": "stdout"
        }
      ]
    },
    {
      "cell_type": "code",
      "metadata": {
        "id": "8CaCBSLcHSPW"
      },
      "source": [
        ""
      ],
      "execution_count": null,
      "outputs": []
    },
    {
      "cell_type": "code",
      "metadata": {
        "colab": {
          "base_uri": "https://localhost:8080/",
          "height": 545
        },
        "id": "QjGefUimAi9t",
        "outputId": "45094867-0dbf-4c58-b8c4-eb44fe5e0a8e"
      },
      "source": [
        "\n",
        "\n",
        "import matplotlib.pyplot as plt\n",
        "acc = history.history['acc']\n",
        "val_acc = history.history['val_acc']\n",
        "loss = history.history['loss']\n",
        "val_loss = history.history['val_loss']\n",
        "\n",
        "epochs = range(len(acc))\n",
        "\n",
        "plt.plot(epochs, acc, 'bo', label='Training acc')\n",
        "plt.plot(epochs, val_acc, 'b', label='Validation acc')\n",
        "plt.title('Training and validation accuracy')\n",
        "plt.legend()\n",
        "\n",
        "plt.figure()\n",
        "\n",
        "plt.plot(epochs, loss, 'bo', label='Training loss')\n",
        "plt.plot(epochs, val_loss, 'b', label='Validation loss')\n",
        "plt.title('Training and validation loss')\n",
        "plt.legend()\n",
        "\n",
        "plt.show()"
      ],
      "execution_count": null,
      "outputs": [
        {
          "output_type": "display_data",
          "data": {
            "image/png": "[encoded data removed]",
            "text/plain": [
              "<Figure size 432x288 with 1 Axes>"
            ]
          },
          "metadata": {
            "tags": [],
            "needs_background": "light"
          }
        },
        {
          "output_type": "display_data",
          "data": {
            "image/png": "[encoded data removed]",
            "text/plain": [
              "<Figure size 432x288 with 1 Axes>"
            ]
          },
          "metadata": {
            "tags": [],
            "needs_background": "light"
          }
        }
      ]
    },
    {
      "cell_type": "code",
      "metadata": {
        "colab": {
          "base_uri": "https://localhost:8080/"
        },
        "id": "nGjSg3_sg8OQ",
        "outputId": "950d8912-f394-4dac-ec7b-55688d459324"
      },
      "source": [
        "test_generator = test_datagen.flow_from_directory(\n",
        "        test_dir,\n",
        "        target_size=(150, 150),\n",
        "        batch_size=20,\n",
        "        class_mode='binary', shuffle=False)\n",
        "\n",
        "test_loss, test_acc = model.evaluate(test_generator,steps=5)\n",
        "print('test acc:', test_acc)"
      ],
      "execution_count": null,
      "outputs": [
        {
          "output_type": "stream",
          "text": [
            "Found 2000 images belonging to 2 classes.\n",
            "5/5 [==============================] - 22s 4s/step - loss: 0.0808 - acc: 0.9600\n",
            "test acc: 0.9599999785423279\n"
          ],
          "name": "stdout"
        }
      ]
    },
    {
      "cell_type": "code",
      "metadata": {
        "colab": {
          "base_uri": "https://localhost:8080/"
        },
        "id": "DINmbkBxfGVq",
        "outputId": "28528e43-3486-450a-8d29-bbad47a0ba7b"
      },
      "source": [
        "from sklearn.metrics import confusion_matrix\n",
        "Y_pred = model.predict(validation_generator, test_generator.samples / test_generator.batch_size)\n",
        "y_pred = np.argmax(Y_pred, axis=1)\n",
        "print('Confusion Matrix')\n",
        "print(confusion_matrix(validation_generator.classes, y_pred))"
      ],
      "execution_count": null,
      "outputs": [
        {
          "output_type": "stream",
          "text": [
            "Confusion Matrix\n",
            "[[800   0]\n",
            " [800   0]]\n"
          ],
          "name": "stdout"
        }
      ]
    },
    {
      "cell_type": "code",
      "metadata": {
        "colab": {
          "base_uri": "https://localhost:8080/"
        },
        "id": "Z7rhlSOki69a",
        "outputId": "335c4289-ee22-4814-8319-2eb7b8c71822"
      },
      "source": [
        "train_generator.class_indices"
      ],
      "execution_count": null,
      "outputs": [
        {
          "output_type": "execute_result",
          "data": {
            "text/plain": [
              "{'lung_aca': 0, 'lung_n': 1}"
            ]
          },
          "metadata": {
            "tags": []
          },
          "execution_count": 35
        }
      ]
    },
    {
      "cell_type": "code",
      "metadata": {
        "id": "PsLHF6-mAk-A"
      },
      "source": [
        "\n",
        "# unfreezing layer in vgg\n",
        "conv_base.trainable = True\n",
        "\n",
        "set_trainable = False\n",
        "for layer in conv_base.layers:\n",
        "    if layer.name == 'block5_conv1':\n",
        "        set_trainable = True\n",
        "    if set_trainable:\n",
        "        layer.trainable = True\n",
        "    else:\n",
        "        layer.trainable = False"
      ],
      "execution_count": null,
      "outputs": []
    },
    {
      "cell_type": "code",
      "metadata": {
        "id": "wqhZRI3iApQ3"
      },
      "source": [
        "model.compile(loss='binary_crossentropy',\n",
        "              optimizer=optimizers.Adam(learning_rate=1e-5),\n",
        "              metrics=['acc'])\n",
        "\n",
        "history = model.fit(\n",
        "      train_generator,\n",
        "      steps_per_epoch=50,\n",
        "      epochs=20,\n",
        "      validation_data=validation_generator,\n",
        "      validation_steps=20)"
      ],
      "execution_count": null,
      "outputs": []
    },
    {
      "cell_type": "code",
      "metadata": {
        "id": "yNRzYSKWAsGp"
      },
      "source": [
        "test_generator = test_datagen.flow_from_directory(\n",
        "        test_dir,\n",
        "        target_size=(150, 150),\n",
        "        batch_size=20,\n",
        "        class_mode='binary')\n",
        "\n",
        "test_loss, test_acc = model.evaluate(test_generator, steps=50)\n",
        "print('test acc:', test_acc)"
      ],
      "execution_count": null,
      "outputs": []
    },
    {
      "cell_type": "code",
      "metadata": {
        "id": "v0Ox6_itAvoE"
      },
      "source": [
        "from sklearn.metrics import confusion_matrix\n",
        "Y_pred = model.predict(validation_generator, test_generator.samples / test_generator.batch_size)\n",
        "y_pred = np.argmax(Y_pred, axis=1)\n",
        "print('Confusion Matrix')\n",
        "print(confusion_matrix(validation_generator.classes, y_pred))"
      ],
      "execution_count": null,
      "outputs": []
    },
    {
      "cell_type": "code",
      "metadata": {
        "id": "Mlp5X9cGj2hF",
        "colab": {
          "base_uri": "https://localhost:8080/"
        },
        "outputId": "2b0b7033-f31f-4264-ec4a-e314d53f9e42"
      },
      "source": [
        "print('Confusion Matrix')\n",
        "print(confusion_matrix(validation_generator.classes, y_pred))"
      ],
      "execution_count": null,
      "outputs": [
        {
          "output_type": "stream",
          "text": [
            "Confusion Matrix\n",
            "[[800   0]\n",
            " [800   0]]\n"
          ],
          "name": "stdout"
        }
      ]
    },
    {
      "cell_type": "code",
      "metadata": {
        "id": "W9dILhQuj4in"
      },
      "source": [
        ""
      ],
      "execution_count": null,
      "outputs": []
    },
    {
      "cell_type": "code",
      "metadata": {
        "id": "hB5hjcmq3rzx"
      },
      "source": [
        ""
      ],
      "execution_count": null,
      "outputs": []
    }
  ]
}
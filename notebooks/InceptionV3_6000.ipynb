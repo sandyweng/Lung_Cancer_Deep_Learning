{
 "cells": [
  {
   "cell_type": "code",
   "execution_count": 4,
   "id": "spiritual-irish",
   "metadata": {},
   "outputs": [],
   "source": [
    "import numpy as np\n",
    "import pandas as pd\n",
    "from sklearn.metrics import f1_score, roc_auc_score, cohen_kappa_score, precision_score, recall_score, accuracy_score, confusion_matrix\n",
    "from keras.layers import Dense, Flatten, Conv2D, MaxPooling2D, Dropout\n",
    "from keras.models import Sequential\n",
    "import tensorflow as tf\n",
    "import matplotlib.pyplot as plt\n",
    "import cv2\n",
    "from keras.layers.normalization import BatchNormalization\n",
    "from keras.models import Model, Sequential\n",
    "from keras.applications.xception import Xception\n",
    "from keras.applications import *\n",
    "import matplotlib.pyplot as plt\n",
    "from sklearn.pipeline import make_pipeline\n",
    "from sklearn.pipeline import Pipeline\n",
    "from PIL import Image\n",
    "import random\n",
    "import os\n",
    "import cv2\n",
    "from sklearn.model_selection import train_test_split\n",
    "from sklearn.neighbors import KNeighborsClassifier\n",
    "from sklearn.svm import SVC\n",
    "from sklearn.ensemble import RandomForestClassifier, AdaBoostClassifier\n",
    "from xgboost import XGBClassifier \n",
    "from keras.callbacks import EarlyStopping\n",
    "import seaborn as sns\n",
    "from sklearn.preprocessing import StandardScaler\n",
    "from tqdm import tqdm\n",
    "from sklearn.decomposition import PCA"
   ]
  },
  {
   "cell_type": "markdown",
   "id": "bibliographic-sound",
   "metadata": {},
   "source": [
    "# Small Dataset (a few hundred images)"
   ]
  },
  {
   "cell_type": "code",
   "execution_count": 11,
   "id": "committed-bosnia",
   "metadata": {},
   "outputs": [],
   "source": [
    "# read in data\n",
    "base_dir = '/Users/sandy/Desktop/Small Dataset'\n",
    "train = os.path.join(base_dir, 'train')\n",
    "validation = os.path.join(base_dir, 'validation')\n",
    "test = os.path.join(base_dir, 'test')\n",
    "\n",
    "train_aca_dir = os.path.join(train, 'lung_aca')\n",
    "train_normal_dir = os.path.join(train, 'lung_n')\n",
    "train_scc_dir = os.path.join(train, 'lung_scc')\n",
    "\n",
    "validation_aca_dir = os.path.join(validation, 'lung_aca')\n",
    "validation_normal_dir = os.path.join(validation, 'lung_n')\n",
    "validation_scc_dir = os.path.join(validation, 'lung_scc')\n",
    "\n",
    "test_aca_dir = os.path.join(test, 'lung_aca')\n",
    "test_normal_dir = os.path.join(test, 'lung_n')\n",
    "test_scc_dir = os.path.join(test, 'lung_scc')"
   ]
  },
  {
   "cell_type": "code",
   "execution_count": 3,
   "id": "amateur-herald",
   "metadata": {},
   "outputs": [],
   "source": [
    "# Import the inception model  \n",
    "from tensorflow.keras.applications.inception_v3 import InceptionV3"
   ]
  },
  {
   "cell_type": "code",
   "execution_count": 10,
   "id": "central-regard",
   "metadata": {},
   "outputs": [],
   "source": [
    "pre_trained_model = InceptionV3(input_shape = (150, 150, 3), # Shape of our images\n",
    "                                include_top = False, # Leave out the last fully connected layer\n",
    "                                weights = 'imagenet')"
   ]
  },
  {
   "cell_type": "code",
   "execution_count": 11,
   "id": "satisfactory-transaction",
   "metadata": {},
   "outputs": [],
   "source": [
    "for layer in pre_trained_model.layers:\n",
    "  layer.trainable = False"
   ]
  },
  {
   "cell_type": "code",
   "execution_count": 22,
   "id": "exceptional-python",
   "metadata": {},
   "outputs": [],
   "source": [
    "from tensorflow.keras.optimizers import Adam\n",
    "from tensorflow.keras import Model, layers\n",
    "\n",
    "# Flatten the output layer to 1 dimension\n",
    "x = layers.Flatten()(pre_trained_model.output)\n",
    "# Add a fully connected layer with 1,024 hidden units and ReLU activation\n",
    "x = layers.Dense(1024, activation='relu')(x)\n",
    "# Add a dropout rate of 0.2\n",
    "x = layers.Dropout(0.2)(x)                  \n",
    "# Add a final softmax layer for classification\n",
    "x = layers.Dense(3, activation='softmax')(x)           \n",
    "\n",
    "model = Model(pre_trained_model.input, x) \n",
    "\n",
    "model.compile(optimizer = Adam(learning_rate=0.0001), \n",
    "              loss = 'categorical_crossentropy', \n",
    "              metrics = ['acc'])"
   ]
  },
  {
   "cell_type": "code",
   "execution_count": 23,
   "id": "confused-stylus",
   "metadata": {},
   "outputs": [
    {
     "name": "stdout",
     "output_type": "stream",
     "text": [
      "Found 478 images belonging to 3 classes.\n",
      "Found 120 images belonging to 3 classes.\n"
     ]
    }
   ],
   "source": [
    "from tensorflow.keras.preprocessing.image import ImageDataGenerator\n",
    "# rescaling data\n",
    "train_datagen = ImageDataGenerator(rescale = 1./255.)\n",
    "\n",
    "# Note that the validation data should not be augmented!\n",
    "test_datagen = ImageDataGenerator( rescale = 1.0/255. )\n",
    "\n",
    "# Flow training images in batches of 20 using train_datagen generator\n",
    "train_generator = train_datagen.flow_from_directory(train,\n",
    "                                                    batch_size = 20,\n",
    "                                                    class_mode = 'categorical', \n",
    "                                                    target_size = (150, 150))     \n",
    "\n",
    "# Flow validation images in batches of 20 using test_datagen generator\n",
    "validation_generator =  test_datagen.flow_from_directory(validation,\n",
    "                                                          batch_size  = 20,\n",
    "                                                          class_mode  = 'categorical', \n",
    "                                                          target_size = (150, 150))"
   ]
  },
  {
   "cell_type": "code",
   "execution_count": 25,
   "id": "delayed-memorabilia",
   "metadata": {
    "scrolled": true
   },
   "outputs": [
    {
     "name": "stdout",
     "output_type": "stream",
     "text": [
      "Epoch 1/30\n",
      "3/3 [==============================] - 2s 1s/step - loss: 0.0851 - acc: 0.9828 - val_loss: 0.3401 - val_acc: 0.8417\n",
      "Epoch 2/30\n",
      "3/3 [==============================] - 2s 942ms/step - loss: 0.1528 - acc: 0.9833 - val_loss: 0.3349 - val_acc: 0.8583\n",
      "Epoch 3/30\n",
      "3/3 [==============================] - 2s 962ms/step - loss: 0.1005 - acc: 0.9667 - val_loss: 0.3176 - val_acc: 0.8833\n",
      "Epoch 4/30\n",
      "3/3 [==============================] - 2s 971ms/step - loss: 0.1400 - acc: 0.9333 - val_loss: 0.3065 - val_acc: 0.8750\n",
      "Epoch 5/30\n",
      "3/3 [==============================] - 2s 950ms/step - loss: 0.0948 - acc: 0.9833 - val_loss: 0.3063 - val_acc: 0.8917\n",
      "Epoch 6/30\n",
      "3/3 [==============================] - 2s 945ms/step - loss: 0.0477 - acc: 0.9833 - val_loss: 0.2778 - val_acc: 0.9083\n",
      "Epoch 7/30\n",
      "3/3 [==============================] - 2s 1s/step - loss: 0.0577 - acc: 0.9828 - val_loss: 0.2690 - val_acc: 0.9000\n",
      "Epoch 8/30\n",
      "3/3 [==============================] - 2s 998ms/step - loss: 0.0950 - acc: 0.9667 - val_loss: 0.2778 - val_acc: 0.9000\n",
      "Epoch 9/30\n",
      "3/3 [==============================] - 2s 1s/step - loss: 0.0703 - acc: 0.9500 - val_loss: 0.2943 - val_acc: 0.9083\n",
      "Epoch 10/30\n",
      "3/3 [==============================] - 2s 976ms/step - loss: 0.0311 - acc: 1.0000 - val_loss: 0.3223 - val_acc: 0.9000\n",
      "Epoch 11/30\n",
      "3/3 [==============================] - 2s 998ms/step - loss: 0.0338 - acc: 1.0000 - val_loss: 0.3144 - val_acc: 0.9083\n",
      "Epoch 12/30\n",
      "3/3 [==============================] - 2s 1s/step - loss: 0.0551 - acc: 0.9833 - val_loss: 0.2683 - val_acc: 0.9000\n",
      "Epoch 13/30\n",
      "3/3 [==============================] - 2s 1s/step - loss: 0.0442 - acc: 0.9833 - val_loss: 0.2575 - val_acc: 0.9000\n",
      "Epoch 14/30\n",
      "3/3 [==============================] - 2s 960ms/step - loss: 0.0815 - acc: 0.9833 - val_loss: 0.2485 - val_acc: 0.9250\n",
      "Epoch 15/30\n",
      "3/3 [==============================] - 2s 958ms/step - loss: 0.0215 - acc: 1.0000 - val_loss: 0.2526 - val_acc: 0.9167\n",
      "Epoch 16/30\n",
      "3/3 [==============================] - 2s 1s/step - loss: 0.0424 - acc: 0.9833 - val_loss: 0.2476 - val_acc: 0.9250\n",
      "Epoch 17/30\n",
      "3/3 [==============================] - 2s 1s/step - loss: 0.0238 - acc: 1.0000 - val_loss: 0.2488 - val_acc: 0.9250\n",
      "Epoch 18/30\n",
      "3/3 [==============================] - 3s 1s/step - loss: 0.0271 - acc: 1.0000 - val_loss: 0.2400 - val_acc: 0.9250\n",
      "Epoch 19/30\n",
      "3/3 [==============================] - 2s 1s/step - loss: 0.0411 - acc: 0.9833 - val_loss: 0.2241 - val_acc: 0.9250\n",
      "Epoch 20/30\n",
      "3/3 [==============================] - 2s 970ms/step - loss: 0.0251 - acc: 0.9833 - val_loss: 0.2166 - val_acc: 0.9333\n",
      "Epoch 21/30\n",
      "3/3 [==============================] - 2s 971ms/step - loss: 0.0164 - acc: 1.0000 - val_loss: 0.2163 - val_acc: 0.9250\n",
      "Epoch 22/30\n",
      "3/3 [==============================] - 2s 1s/step - loss: 0.0241 - acc: 1.0000 - val_loss: 0.2168 - val_acc: 0.9250\n",
      "Epoch 23/30\n",
      "3/3 [==============================] - 2s 969ms/step - loss: 0.0520 - acc: 0.9833 - val_loss: 0.2272 - val_acc: 0.9250\n",
      "Epoch 24/30\n",
      "3/3 [==============================] - 2s 950ms/step - loss: 0.0295 - acc: 1.0000 - val_loss: 0.2442 - val_acc: 0.9250\n",
      "Epoch 25/30\n",
      "3/3 [==============================] - 2s 947ms/step - loss: 0.0260 - acc: 1.0000 - val_loss: 0.2637 - val_acc: 0.9167\n",
      "Epoch 26/30\n",
      "3/3 [==============================] - 2s 951ms/step - loss: 0.0372 - acc: 0.9833 - val_loss: 0.2572 - val_acc: 0.9167\n",
      "Epoch 27/30\n",
      "3/3 [==============================] - 2s 958ms/step - loss: 0.0151 - acc: 1.0000 - val_loss: 0.2377 - val_acc: 0.9250\n",
      "Epoch 28/30\n",
      "3/3 [==============================] - 2s 958ms/step - loss: 0.0156 - acc: 1.0000 - val_loss: 0.2279 - val_acc: 0.9250\n",
      "Epoch 29/30\n",
      "3/3 [==============================] - 2s 968ms/step - loss: 0.0271 - acc: 1.0000 - val_loss: 0.2296 - val_acc: 0.9167\n",
      "Epoch 30/30\n",
      "3/3 [==============================] - 2s 956ms/step - loss: 0.0293 - acc: 0.9833 - val_loss: 0.2306 - val_acc: 0.9250\n"
     ]
    }
   ],
   "source": [
    "\n",
    "history = model.fit_generator(\n",
    "            train_generator,\n",
    "            validation_data = validation_generator,\n",
    "            steps_per_epoch = 3,\n",
    "            epochs = 30)"
   ]
  },
  {
   "cell_type": "code",
   "execution_count": 26,
   "id": "homeless-german",
   "metadata": {
    "scrolled": true
   },
   "outputs": [
    {
     "data": {
      "image/png": "[encoded data removed]",
      "text/plain": [
       "<Figure size 432x288 with 1 Axes>"
      ]
     },
     "metadata": {
      "needs_background": "light"
     },
     "output_type": "display_data"
    },
    {
     "data": {
      "image/png": "[encoded data removed]",
      "text/plain": [
       "<Figure size 432x288 with 1 Axes>"
      ]
     },
     "metadata": {
      "needs_background": "light"
     },
     "output_type": "display_data"
    }
   ],
   "source": [
    "import matplotlib.pyplot as plt\n",
    "acc = history.history['acc']\n",
    "val_acc = history.history['val_acc']\n",
    "loss = history.history['loss']\n",
    "val_loss = history.history['val_loss']\n",
    "\n",
    "epochs = range(len(acc))\n",
    "\n",
    "plt.plot(epochs, acc, 'bo', label='Training accuracy')\n",
    "plt.plot(epochs, val_acc, 'b', label='Validation accuracy')\n",
    "plt.title('Training and validation accuracy')\n",
    "\n",
    "plt.figure()\n",
    "\n",
    "plt.plot(epochs, loss, 'bo', label='Training Loss')\n",
    "plt.plot(epochs, val_loss, 'b', label='Validation Loss')\n",
    "plt.title('Training and validation loss')\n",
    "plt.legend()\n",
    "\n",
    "plt.show()"
   ]
  },
  {
   "cell_type": "markdown",
   "id": "standing-interim",
   "metadata": {},
   "source": [
    "# Bigger Dataset (a few thousand images)"
   ]
  },
  {
   "cell_type": "code",
   "execution_count": 29,
   "id": "international-scholar",
   "metadata": {},
   "outputs": [],
   "source": [
    "# add more data\n",
    "# The path to the original directory with lung images\n",
    "# dataset is uncompressed\n",
    "original_dataset_dir = '/Users/sandy/Desktop/lung_colon_image_set/lung_image_sets'\n",
    "\n",
    "# The directory where we will\n",
    "# store our bigger dataset\n",
    "base_dir = '/Users/sandy/Desktop/Bigger Dataset'\n",
    "\n",
    "# Directories for our training,\n",
    "# validation and test splits\n",
    "train = os.path.join(base_dir, 'train')\n",
    "os.mkdir(train)\n",
    "\n",
    "validation = os.path.join(base_dir, 'validation')\n",
    "test = os.path.join(base_dir, 'test')\n",
    "os.mkdir(validation)\n",
    "\n",
    "# Directory with our training aca pictures\n",
    "train_aca_dir = os.path.join(train, 'lung_aca')\n",
    "os.mkdir(train_aca_dir)\n",
    "\n",
    "# Directory with our training normal pictures\n",
    "train_normal_dir = os.path.join(train, 'lung_n')\n",
    "os.mkdir(train_normal_dir)\n",
    "\n",
    "# Directory with our validation aca pictures\n",
    "validation_aca_dir = os.path.join(validation, 'lung_aca')\n",
    "os.mkdir(validation_aca_dir)\n",
    "\n",
    "# Directory with our validation normal pictures\n",
    "validation_normal_dir = os.path.join(validation, 'lung_n')\n",
    "os.mkdir(validation_normal_dir)\n",
    "\n",
    "# Directory with our test aca pictures\n",
    "test_aca_dir = os.path.join(test, 'lung_aca')\n",
    "os.mkdir(test_aca_dir)\n",
    "\n",
    "# Directory with our test normal pictures\n",
    "test_normal_dir = os.path.join(test, 'lung_n')\n",
    "os.mkdir(test_normal_dir)\n",
    "\n"
   ]
  },
  {
   "cell_type": "code",
   "execution_count": 31,
   "id": "nervous-carnival",
   "metadata": {},
   "outputs": [],
   "source": [
    "import shutil\n",
    "\n",
    "original_aca_dir = '/Users/sandy/Desktop/lung_colon_image_set/lung_image_sets/lung_aca'\n",
    "\n",
    "\n",
    "# Copy first 1000 aca images to train_aca_dir\n",
    "fnames = ['lungaca{}.jpeg'.format(i) for i in range(1,1001)]\n",
    "for fname in fnames:\n",
    "    src = os.path.join(original_aca_dir, fname)\n",
    "    dst = os.path.join(train_aca_dir, fname)\n",
    "    shutil.copyfile(src, dst)\n",
    "    \n",
    "# Copy next 500 aca images to validation_aca_dir\n",
    "fnames = ['lungaca{}.jpeg'.format(i) for i in range(1001, 1501)]\n",
    "for fname in fnames:\n",
    "    src = os.path.join(original_aca_dir, fname)\n",
    "    dst = os.path.join(validation_aca_dir, fname)\n",
    "    shutil.copyfile(src, dst)\n",
    "    \n",
    "# Copy next 500 aca images to test_aca_dir\n",
    "fnames = ['lungaca{}.jpeg'.format(i) for i in range(1501, 2001)]\n",
    "for fname in fnames:\n",
    "    src = os.path.join(original_aca_dir, fname)\n",
    "    dst = os.path.join(test_aca_dir, fname)\n",
    "    shutil.copyfile(src, dst)\n",
    "    \n",
    "original_normal_dir = '/Users/sandy/Desktop/lung_colon_image_set/lung_image_sets/lung_n'\n",
    "\n",
    "# Copy first 1000 normal images to train_normal_dir\n",
    "fnames = ['lungn{}.jpeg'.format(i) for i in range(1,1001)]\n",
    "for fname in fnames:\n",
    "    src = os.path.join(original_normal_dir, fname)\n",
    "    dst = os.path.join(train_normal_dir, fname)\n",
    "    shutil.copyfile(src, dst)\n",
    "    \n",
    "# Copy next 500 normal images to validation_normal_dir\n",
    "fnames = ['lungn{}.jpeg'.format(i) for i in range(1001, 1501)]\n",
    "for fname in fnames:\n",
    "    src = os.path.join(original_normal_dir, fname)\n",
    "    dst = os.path.join(validation_normal_dir, fname)\n",
    "    shutil.copyfile(src, dst)\n",
    "    \n",
    "# Copy next 500 normal images to test_normal_dir\n",
    "fnames = ['lungn{}.jpeg'.format(i) for i in range(1501, 2001)]\n",
    "for fname in fnames:\n",
    "    src = os.path.join(original_normal_dir, fname)\n",
    "    dst = os.path.join(test_normal_dir, fname)\n",
    "    shutil.copyfile(src, dst)\n",
    "    \n"
   ]
  },
  {
   "cell_type": "code",
   "execution_count": 47,
   "id": "quality-copper",
   "metadata": {},
   "outputs": [],
   "source": [
    "# Directory with our training scc pictures\n",
    "train_scc_dir = os.path.join(train, 'lung_scc')\n",
    "os.mkdir(train_scc_dir)\n",
    "\n",
    "# Directory with our validation scc pictures\n",
    "validation_scc_dir = os.path.join(validation, 'lung_scc')\n",
    "os.mkdir(validation_scc_dir)\n",
    "\n",
    "\n",
    "original_scc_dir = '/Users/sandy/Desktop/lung_colon_image_set/lung_image_sets/lung_scc'\n",
    "\n",
    "# Copy first 1000 scc images to train_scc_dir\n",
    "fnames = ['lungscc{}.jpeg'.format(i) for i in range(1,1001)]\n",
    "for fname in fnames:\n",
    "    src = os.path.join(original_scc_dir, fname)\n",
    "    dst = os.path.join(train_scc_dir, fname)\n",
    "    shutil.copyfile(src, dst)\n",
    "    \n",
    "# Copy next 500 scc images to validation_scc_dir\n",
    "fnames = ['lungscc{}.jpeg'.format(i) for i in range(1001, 1501)]\n",
    "for fname in fnames:\n",
    "    src = os.path.join(original_scc_dir, fname)\n",
    "    dst = os.path.join(validation_scc_dir, fname)\n",
    "    shutil.copyfile(src, dst)\n",
    "    \n"
   ]
  },
  {
   "cell_type": "code",
   "execution_count": 83,
   "id": "enclosed-humanitarian",
   "metadata": {},
   "outputs": [],
   "source": [
    "test_scc_dir = os.path.join(test, 'lung_scc')\n",
    "os.mkdir(test_scc_dir)\n",
    "\n",
    "# Copy next 500 scc images to test_scc_dir\n",
    "fnames = ['lungscc{}.jpeg'.format(i) for i in range(1501, 2001)]\n",
    "for fname in fnames:\n",
    "    src = os.path.join(original_scc_dir, fname)\n",
    "    dst = os.path.join(test_scc_dir, fname)\n",
    "    shutil.copyfile(src, dst)"
   ]
  },
  {
   "cell_type": "code",
   "execution_count": 7,
   "id": "straight-initial",
   "metadata": {},
   "outputs": [],
   "source": [
    "base_dir2 = '/Users/sandy/Desktop/Bigger Dataset'\n",
    "train2 = os.path.join(base_dir2, 'train')\n",
    "validation2 = os.path.join(base_dir2, 'validation')\n",
    "test2 = os.path.join(base_dir2, 'test')"
   ]
  },
  {
   "cell_type": "code",
   "execution_count": 12,
   "id": "compliant-diving",
   "metadata": {},
   "outputs": [
    {
     "name": "stdout",
     "output_type": "stream",
     "text": [
      "Found 3000 images belonging to 3 classes.\n",
      "Found 1500 images belonging to 3 classes.\n"
     ]
    }
   ],
   "source": [
    "from tensorflow.keras.preprocessing.image import ImageDataGenerator\n",
    "from tensorflow.keras import Model, layers\n",
    "from tensorflow.keras.optimizers import Adam\n",
    "\n",
    "# no image augmentation\n",
    "\n",
    "# Flatten the output layer to 1 dimension\n",
    "x = layers.Flatten()(pre_trained_model.output)\n",
    "# Add a fully connected layer with 1,024 hidden units and ReLU activation\n",
    "x = layers.Dense(1024, activation='relu')(x)\n",
    "# Add a dropout rate of 0.2\n",
    "x = layers.Dropout(0.2)(x)                  \n",
    "# Add a final softmax layer for classification\n",
    "x = layers.Dense(3, activation='softmax')(x)           \n",
    "\n",
    "model = Model(pre_trained_model.input, x) \n",
    "\n",
    "model.compile(optimizer = Adam(learning_rate=0.0001), \n",
    "              loss = 'categorical_crossentropy', \n",
    "              metrics = ['acc'])\n",
    "\n",
    "# rescaling data\n",
    "train_datagen2 = ImageDataGenerator(rescale = 1./255.)\n",
    "\n",
    "\n",
    "# Note that the validation data should not be augmented!\n",
    "test_datagen = ImageDataGenerator( rescale = 1.0/255. )\n",
    "\n",
    "# Flow training images in batches of 20 using train_datagen generator\n",
    "train_generator2 = train_datagen2.flow_from_directory(train2,\n",
    "                                                    batch_size = 20,\n",
    "                                                    class_mode = 'categorical', \n",
    "                                                    target_size = (150, 150), shuffle=False)     \n",
    "\n",
    "# Flow validation images in batches of 20 using test_datagen generator\n",
    "validation_generator2 =  test_datagen.flow_from_directory(validation2,\n",
    "                                                          batch_size  = 20,\n",
    "                                                          class_mode  = 'categorical', \n",
    "                                                          target_size = (150, 150), shuffle=False)"
   ]
  },
  {
   "cell_type": "code",
   "execution_count": 13,
   "id": "certified-kernel",
   "metadata": {},
   "outputs": [],
   "source": [
    "class myCallback(tf.keras.callbacks.Callback):\n",
    "  def on_epoch_end(self, epoch, logs={}):\n",
    "    if(logs.get('acc')>0.959):\n",
    "      print(\"\\nReached 99.9% accuracy so cancelling training!\")\n",
    "      self.model.stop_training = True"
   ]
  },
  {
   "cell_type": "code",
   "execution_count": 14,
   "id": "flush-hunter",
   "metadata": {
    "scrolled": false
   },
   "outputs": [
    {
     "name": "stdout",
     "output_type": "stream",
     "text": [
      "Epoch 1/100\n",
      "75/75 [==============================] - 33s 383ms/step - loss: 2.4806 - acc: 0.5639 - val_loss: 0.7049 - val_acc: 0.7200\n",
      "Epoch 2/100\n",
      "75/75 [==============================] - 27s 360ms/step - loss: 0.2639 - acc: 0.8940 - val_loss: 0.3623 - val_acc: 0.8480\n",
      "Epoch 3/100\n",
      "75/75 [==============================] - 27s 353ms/step - loss: 0.1535 - acc: 0.9397 - val_loss: 0.4652 - val_acc: 0.8300\n",
      "Epoch 4/100\n",
      "75/75 [==============================] - 27s 362ms/step - loss: 0.1841 - acc: 0.9318 - val_loss: 0.2076 - val_acc: 0.9100\n",
      "Epoch 5/100\n",
      "75/75 [==============================] - 28s 379ms/step - loss: 0.1441 - acc: 0.9422 - val_loss: 0.2793 - val_acc: 0.8820\n",
      "Epoch 6/100\n",
      "75/75 [==============================] - 29s 390ms/step - loss: 0.0980 - acc: 0.9628 - val_loss: 0.2745 - val_acc: 0.8760\n",
      "\n",
      "Reached 99.9% accuracy so cancelling training!\n"
     ]
    }
   ],
   "source": [
    "# first model\n",
    "callbacks = myCallback()\n",
    "history = model.fit(\n",
    "            train_generator2,\n",
    "            validation_data = validation_generator2,\n",
    "            steps_per_epoch = 75,\n",
    "            epochs = 100,\n",
    "            validation_steps = 25,\n",
    "            callbacks=[callbacks])"
   ]
  },
  {
   "cell_type": "code",
   "execution_count": 28,
   "id": "after-belle",
   "metadata": {
    "scrolled": false
   },
   "outputs": [
    {
     "name": "stdout",
     "output_type": "stream",
     "text": [
      "Epoch 1/100\n",
      "75/75 [==============================] - 28s 372ms/step - loss: 0.0609 - acc: 0.9780 - val_loss: 0.1977 - val_acc: 0.9120\n",
      "Epoch 2/100\n",
      "75/75 [==============================] - 30s 398ms/step - loss: 0.0561 - acc: 0.9793 - val_loss: 0.1341 - val_acc: 0.9400\n",
      "Epoch 3/100\n",
      "75/75 [==============================] - 30s 401ms/step - loss: 0.0650 - acc: 0.9773 - val_loss: 0.1199 - val_acc: 0.9400\n",
      "Epoch 4/100\n",
      "75/75 [==============================] - 62s 837ms/step - loss: 0.0302 - acc: 0.9913 - val_loss: 0.1600 - val_acc: 0.9360\n",
      "Epoch 5/100\n",
      "75/75 [==============================] - 31s 416ms/step - loss: 0.0276 - acc: 0.9927 - val_loss: 0.2867 - val_acc: 0.8880\n",
      "Epoch 6/100\n",
      "75/75 [==============================] - 30s 399ms/step - loss: 0.0176 - acc: 0.9973 - val_loss: 0.2193 - val_acc: 0.9180\n",
      "Epoch 7/100\n",
      "75/75 [==============================] - 28s 374ms/step - loss: 0.0189 - acc: 0.9973 - val_loss: 0.1301 - val_acc: 0.9520\n",
      "Epoch 8/100\n",
      "75/75 [==============================] - 28s 371ms/step - loss: 0.0162 - acc: 0.9973 - val_loss: 0.1804 - val_acc: 0.9220\n",
      "Epoch 9/100\n",
      "75/75 [==============================] - 32s 429ms/step - loss: 0.0074 - acc: 1.0000 - val_loss: 0.1010 - val_acc: 0.9640\n",
      "Epoch 10/100\n",
      "75/75 [==============================] - 28s 367ms/step - loss: 0.0114 - acc: 0.9987 - val_loss: 0.2104 - val_acc: 0.9200\n",
      "Epoch 11/100\n",
      "75/75 [==============================] - 26s 351ms/step - loss: 0.0055 - acc: 1.0000 - val_loss: 0.2802 - val_acc: 0.9000\n",
      "Epoch 12/100\n",
      "75/75 [==============================] - 26s 341ms/step - loss: 0.0042 - acc: 1.0000 - val_loss: 0.1614 - val_acc: 0.9360\n",
      "Epoch 13/100\n",
      "75/75 [==============================] - 26s 340ms/step - loss: 0.0031 - acc: 1.0000 - val_loss: 0.1409 - val_acc: 0.9480\n",
      "Epoch 14/100\n",
      "75/75 [==============================] - 26s 340ms/step - loss: 0.0036 - acc: 1.0000 - val_loss: 0.2675 - val_acc: 0.9020\n",
      "Epoch 15/100\n",
      "75/75 [==============================] - 27s 365ms/step - loss: 0.0032 - acc: 1.0000 - val_loss: 0.2554 - val_acc: 0.9080\n",
      "Epoch 16/100\n",
      "75/75 [==============================] - 28s 369ms/step - loss: 0.0025 - acc: 1.0000 - val_loss: 0.1786 - val_acc: 0.9340\n",
      "Epoch 17/100\n",
      "75/75 [==============================] - 26s 347ms/step - loss: 0.0027 - acc: 1.0000 - val_loss: 0.2170 - val_acc: 0.9260\n",
      "Epoch 18/100\n",
      "75/75 [==============================] - 26s 341ms/step - loss: 0.0022 - acc: 1.0000 - val_loss: 0.1959 - val_acc: 0.9280\n",
      "Epoch 19/100\n",
      "75/75 [==============================] - 25s 336ms/step - loss: 0.0019 - acc: 1.0000 - val_loss: 0.3425 - val_acc: 0.8820\n",
      "Epoch 20/100\n",
      "75/75 [==============================] - 25s 339ms/step - loss: 0.0022 - acc: 1.0000 - val_loss: 0.2228 - val_acc: 0.9240\n",
      "Epoch 21/100\n",
      "75/75 [==============================] - 25s 340ms/step - loss: 0.0021 - acc: 1.0000 - val_loss: 0.1960 - val_acc: 0.9340\n",
      "Epoch 22/100\n",
      "75/75 [==============================] - 26s 341ms/step - loss: 0.0018 - acc: 1.0000 - val_loss: 0.2898 - val_acc: 0.9080\n",
      "Epoch 23/100\n",
      "75/75 [==============================] - 26s 352ms/step - loss: 0.0015 - acc: 1.0000 - val_loss: 0.1794 - val_acc: 0.9440\n",
      "Epoch 24/100\n",
      "75/75 [==============================] - 27s 354ms/step - loss: 0.0012 - acc: 1.0000 - val_loss: 0.2554 - val_acc: 0.9160\n",
      "Epoch 25/100\n",
      "75/75 [==============================] - 30s 399ms/step - loss: 0.0011 - acc: 1.0000 - val_loss: 0.2207 - val_acc: 0.9280\n",
      "Epoch 26/100\n",
      "75/75 [==============================] - 30s 394ms/step - loss: 9.5071e-04 - acc: 1.0000 - val_loss: 0.2741 - val_acc: 0.9140\n",
      "Epoch 27/100\n",
      "75/75 [==============================] - 35s 462ms/step - loss: 8.5344e-04 - acc: 1.0000 - val_loss: 0.2532 - val_acc: 0.9180\n",
      "Epoch 28/100\n",
      "75/75 [==============================] - 35s 461ms/step - loss: 8.9070e-04 - acc: 1.0000 - val_loss: 0.2388 - val_acc: 0.9260\n",
      "Epoch 29/100\n",
      "75/75 [==============================] - 31s 408ms/step - loss: 7.0541e-04 - acc: 1.0000 - val_loss: 0.2083 - val_acc: 0.9360\n",
      "Epoch 30/100\n",
      "75/75 [==============================] - 30s 397ms/step - loss: 7.8332e-04 - acc: 1.0000 - val_loss: 0.2801 - val_acc: 0.9100\n",
      "Epoch 31/100\n",
      "75/75 [==============================] - 31s 410ms/step - loss: 6.6145e-04 - acc: 1.0000 - val_loss: 0.2499 - val_acc: 0.9260\n",
      "Epoch 32/100\n",
      "75/75 [==============================] - 27s 357ms/step - loss: 6.3370e-04 - acc: 1.0000 - val_loss: 0.2454 - val_acc: 0.9220\n",
      "Epoch 33/100\n",
      "75/75 [==============================] - 26s 349ms/step - loss: 5.7114e-04 - acc: 1.0000 - val_loss: 0.2741 - val_acc: 0.9140\n",
      "Epoch 34/100\n",
      "75/75 [==============================] - 28s 371ms/step - loss: 5.0427e-04 - acc: 1.0000 - val_loss: 0.2458 - val_acc: 0.9200\n",
      "Epoch 35/100\n",
      "75/75 [==============================] - 28s 377ms/step - loss: 0.0034 - acc: 0.9993 - val_loss: 0.0093 - val_acc: 0.9980\n",
      "Epoch 36/100\n",
      "75/75 [==============================] - 28s 371ms/step - loss: 0.7131 - acc: 0.9093 - val_loss: 0.2313 - val_acc: 0.9080\n",
      "Epoch 37/100\n",
      "75/75 [==============================] - 29s 386ms/step - loss: 0.2651 - acc: 0.9313 - val_loss: 0.4330 - val_acc: 0.8500\n",
      "Epoch 38/100\n",
      "75/75 [==============================] - 28s 377ms/step - loss: 0.0634 - acc: 0.9780 - val_loss: 0.0916 - val_acc: 0.9660\n",
      "Epoch 39/100\n",
      "75/75 [==============================] - 28s 377ms/step - loss: 0.0362 - acc: 0.9880 - val_loss: 0.3084 - val_acc: 0.8860\n",
      "Epoch 40/100\n",
      "75/75 [==============================] - 27s 363ms/step - loss: 0.0142 - acc: 0.9967 - val_loss: 0.1671 - val_acc: 0.9440\n",
      "Epoch 41/100\n",
      "75/75 [==============================] - 27s 355ms/step - loss: 0.0237 - acc: 0.9913 - val_loss: 0.2626 - val_acc: 0.9040\n",
      "Epoch 42/100\n",
      "75/75 [==============================] - 29s 386ms/step - loss: 0.0139 - acc: 0.9987 - val_loss: 0.3128 - val_acc: 0.8880\n"
     ]
    }
   ],
   "source": [
    "callback = tf.keras.callbacks.EarlyStopping(monitor='loss', patience=8)\n",
    "history = model.fit(\n",
    "            train_generator2,\n",
    "            validation_data = validation_generator2,\n",
    "            steps_per_epoch = 75,\n",
    "            epochs = 100,\n",
    "            validation_steps = 25,\n",
    "            callbacks=[callback])"
   ]
  },
  {
   "cell_type": "code",
   "execution_count": 43,
   "id": "romance-finish",
   "metadata": {},
   "outputs": [],
   "source": [
    "model.save('final_inception.h5', model)"
   ]
  },
  {
   "cell_type": "code",
   "execution_count": 29,
   "id": "average-violence",
   "metadata": {},
   "outputs": [
    {
     "name": "stdout",
     "output_type": "stream",
     "text": [
      "Found 1500 images belonging to 3 classes.\n"
     ]
    }
   ],
   "source": [
    "test_generator =  test_datagen.flow_from_directory(test2,\n",
    "                                                          batch_size  = 20,\n",
    "                                                          class_mode  = 'categorical', \n",
    "                                                          target_size = (150, 150), shuffle=False)"
   ]
  },
  {
   "cell_type": "code",
   "execution_count": 30,
   "id": "secret-region",
   "metadata": {
    "scrolled": false
   },
   "outputs": [
    {
     "name": "stdout",
     "output_type": "stream",
     "text": [
      "50/50 [==============================] - 12s 238ms/step - loss: 0.1236 - acc: 0.9580\n",
      "test acc: 0.9580000042915344\n"
     ]
    }
   ],
   "source": [
    "test_loss, test_acc = model.evaluate(test_generator,steps=50)\n",
    "print('test acc:', test_acc)"
   ]
  },
  {
   "cell_type": "code",
   "execution_count": 37,
   "id": "black-economy",
   "metadata": {},
   "outputs": [
    {
     "data": {
      "text/plain": [
       "{'lung_aca': 0, 'lung_n': 1, 'lung_scc': 2}"
      ]
     },
     "execution_count": 37,
     "metadata": {},
     "output_type": "execute_result"
    }
   ],
   "source": [
    "train_generator2.class_indices"
   ]
  },
  {
   "cell_type": "markdown",
   "id": "sweet-furniture",
   "metadata": {},
   "source": [
    "# Predictions"
   ]
  },
  {
   "cell_type": "code",
   "execution_count": 44,
   "id": "coupled-therapist",
   "metadata": {},
   "outputs": [
    {
     "name": "stdout",
     "output_type": "stream",
     "text": [
      "[1. 0. 0.]\n"
     ]
    }
   ],
   "source": [
    "img = image.load_img('/Users/sandy/Desktop/lung_colon_image_set/lung_image_sets/lung_n/lungn4021.JPEG', target_size=(150, 150))\n",
    "x = image.img_to_array(img)\n",
    "x = np.expand_dims(x, axis=0)\n",
    "\n",
    "images = np.vstack([x])\n"
   ]
  },
  {
   "cell_type": "code",
   "execution_count": 54,
   "id": "constant-sharing",
   "metadata": {
    "scrolled": true
   },
   "outputs": [
    {
     "data": {
      "text/plain": [
       "array([1], dtype=int64)"
      ]
     },
     "execution_count": 54,
     "metadata": {},
     "output_type": "execute_result"
    }
   ],
   "source": [
    "np.argmax(model.predict(images), axis=-1)"
   ]
  },
  {
   "cell_type": "code",
   "execution_count": 53,
   "id": "behavioral-virgin",
   "metadata": {},
   "outputs": [],
   "source": [
    "images /= 255."
   ]
  },
  {
   "cell_type": "code",
   "execution_count": 58,
   "id": "first-catholic",
   "metadata": {},
   "outputs": [],
   "source": [
    "from keras.preprocessing import image\n",
    "scc = image.load_img('/Users/sandy/Desktop/lung_colon_image_set/lung_image_sets/lung_scc/lungscc4200.JPEG', target_size=(150, 150))\n",
    "scc_array = image.img_to_array(scc)\n",
    "scc_array = np.expand_dims(scc_array, axis=0)\n",
    "\n",
    "image_scc = np.vstack([scc_array])\n",
    "image_scc /= 255.\n"
   ]
  },
  {
   "cell_type": "code",
   "execution_count": 60,
   "id": "threaded-locking",
   "metadata": {},
   "outputs": [
    {
     "data": {
      "text/plain": [
       "array([2], dtype=int64)"
      ]
     },
     "execution_count": 60,
     "metadata": {},
     "output_type": "execute_result"
    }
   ],
   "source": [
    "scc_pred = np.argmax(model.predict(image_scc), axis=-1)\n",
    "scc_pred"
   ]
  },
  {
   "cell_type": "code",
   "execution_count": 61,
   "id": "facial-international",
   "metadata": {},
   "outputs": [],
   "source": [
    "\n",
    "aca = image.load_img('/Users/sandy/Desktop/lung_colon_image_set/lung_image_sets/lung_aca/lungaca3852.JPEG', target_size=(150, 150))\n",
    "aca_array = image.img_to_array(aca)\n",
    "aca_array = np.expand_dims(aca_array, axis=0)\n",
    "\n",
    "image_aca = np.vstack([aca_array])\n",
    "image_aca /= 255.\n"
   ]
  },
  {
   "cell_type": "code",
   "execution_count": 64,
   "id": "separate-scale",
   "metadata": {},
   "outputs": [
    {
     "data": {
      "text/plain": [
       "array([0], dtype=int64)"
      ]
     },
     "execution_count": 64,
     "metadata": {},
     "output_type": "execute_result"
    }
   ],
   "source": [
    "aca_pred = np.argmax(model.predict(image_aca), axis=-1)\n",
    "aca_pred"
   ]
  },
  {
   "cell_type": "code",
   "execution_count": 35,
   "id": "surprising-prague",
   "metadata": {},
   "outputs": [],
   "source": [
    "test_steps_per_epoch = np.math.ceil(test_generator.samples / test_generator.batch_size)\n",
    "\n",
    "predictions = model.predict(test_generator, steps=test_steps_per_epoch)\n",
    "# Get most likely class\n",
    "predicted_classes = np.argmax(predictions, axis=1)"
   ]
  },
  {
   "cell_type": "code",
   "execution_count": 38,
   "id": "powered-spell",
   "metadata": {},
   "outputs": [],
   "source": [
    "true_classes = test_generator.classes\n",
    "class_labels = list(test_generator.class_indices.keys())   "
   ]
  },
  {
   "cell_type": "code",
   "execution_count": 39,
   "id": "waiting-mills",
   "metadata": {},
   "outputs": [
    {
     "data": {
      "text/plain": [
       "['lung_aca', 'lung_n', 'lung_scc']"
      ]
     },
     "execution_count": 39,
     "metadata": {},
     "output_type": "execute_result"
    }
   ],
   "source": [
    "class_labels"
   ]
  },
  {
   "cell_type": "code",
   "execution_count": 40,
   "id": "blessed-bermuda",
   "metadata": {},
   "outputs": [
    {
     "name": "stdout",
     "output_type": "stream",
     "text": [
      "              precision    recall  f1-score   support\n",
      "\n",
      "    lung_aca       0.96      0.92      0.94       500\n",
      "      lung_n       0.99      1.00      0.99       500\n",
      "    lung_scc       0.93      0.96      0.95       500\n",
      "\n",
      "    accuracy                           0.96      1500\n",
      "   macro avg       0.96      0.96      0.96      1500\n",
      "weighted avg       0.96      0.96      0.96      1500\n",
      "\n"
     ]
    }
   ],
   "source": [
    "from sklearn import metrics\n",
    "report = metrics.classification_report(true_classes, predicted_classes, target_names=class_labels)\n",
    "print(report)    "
   ]
  },
  {
   "cell_type": "code",
   "execution_count": 41,
   "id": "muslim-resort",
   "metadata": {},
   "outputs": [],
   "source": [
    "predictions = model.predict(test_generator)"
   ]
  },
  {
   "cell_type": "code",
   "execution_count": 42,
   "id": "anonymous-residence",
   "metadata": {},
   "outputs": [
    {
     "name": "stdout",
     "output_type": "stream",
     "text": [
      "Confusion Matrix\n",
      "[[444   2  54]\n",
      " [  5 495   0]\n",
      " [ 26   0 474]]\n"
     ]
    }
   ],
   "source": [
    "# final_model confusion matrix\n",
    "Y_pred = model.predict(validation_generator2, test_generator.samples / test_generator.batch_size)\n",
    "y_pred = np.argmax(Y_pred, axis=1)\n",
    "print('Confusion Matrix')\n",
    "print(confusion_matrix(validation_generator2.classes, y_pred))"
   ]
  },
  {
   "cell_type": "code",
   "execution_count": 27,
   "id": "involved-lodging",
   "metadata": {},
   "outputs": [
    {
     "name": "stdout",
     "output_type": "stream",
     "text": [
      "Confusion Matrix\n",
      "[[438   5  57]\n",
      " [  3 497   0]\n",
      " [ 34   0 466]]\n"
     ]
    }
   ],
   "source": [
    "# confusion matrix for comparison \n",
    "Y_pred = model.predict(validation_generator2, test_generator.samples / test_generator.batch_size)\n",
    "y_pred = np.argmax(Y_pred, axis=1)\n",
    "print('Confusion Matrix')\n",
    "print(confusion_matrix(validation_generator2.classes, y_pred))"
   ]
  },
  {
   "cell_type": "code",
   "execution_count": 6,
   "id": "appropriate-gateway",
   "metadata": {},
   "outputs": [],
   "source": [
    "\n"
   ]
  },
  {
   "cell_type": "code",
   "execution_count": null,
   "id": "circular-terminal",
   "metadata": {},
   "outputs": [],
   "source": []
  }
 ],
 "metadata": {
  "kernelspec": {
   "display_name": "Python [conda env:metis] *",
   "language": "python",
   "name": "conda-env-metis-py"
  },
  "language_info": {
   "codemirror_mode": {
    "name": "ipython",
    "version": 3
   },
   "file_extension": ".py",
   "mimetype": "text/x-python",
   "name": "python",
   "nbconvert_exporter": "python",
   "pygments_lexer": "ipython3",
   "version": "3.8.8"
  }
 },
 "nbformat": 4,
 "nbformat_minor": 5
}

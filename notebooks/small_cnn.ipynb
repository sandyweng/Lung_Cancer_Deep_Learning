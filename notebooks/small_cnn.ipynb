{
 "cells": [
  {
   "cell_type": "code",
   "execution_count": 1,
   "id": "negative-clearing",
   "metadata": {},
   "outputs": [
    {
     "data": {
      "text/plain": [
       "'2.4.3'"
      ]
     },
     "execution_count": 1,
     "metadata": {},
     "output_type": "execute_result"
    }
   ],
   "source": [
    "import keras\n",
    "keras.__version__"
   ]
  },
  {
   "cell_type": "code",
   "execution_count": 2,
   "id": "certified-brighton",
   "metadata": {},
   "outputs": [],
   "source": [
    "import os, shutil"
   ]
  },
  {
   "cell_type": "code",
   "execution_count": 10,
   "id": "official-plenty",
   "metadata": {},
   "outputs": [
    {
     "ename": "FileNotFoundError",
     "evalue": "[Errno 2] No such file or directory: '/Users/sandy/Desktop/lung_colon_image_set/lung_image_sets\\\\lungaca0.jpg'",
     "output_type": "error",
     "traceback": [
      "\u001b[1;31m---------------------------------------------------------------------------\u001b[0m",
      "\u001b[1;31mFileNotFoundError\u001b[0m                         Traceback (most recent call last)",
      "\u001b[1;32m<ipython-input-10-df98eddf3e58>\u001b[0m in \u001b[0;36m<module>\u001b[1;34m\u001b[0m\n\u001b[0;32m     42\u001b[0m     \u001b[0msrc\u001b[0m \u001b[1;33m=\u001b[0m \u001b[0mos\u001b[0m\u001b[1;33m.\u001b[0m\u001b[0mpath\u001b[0m\u001b[1;33m.\u001b[0m\u001b[0mjoin\u001b[0m\u001b[1;33m(\u001b[0m\u001b[0moriginal_dataset_dir\u001b[0m\u001b[1;33m,\u001b[0m \u001b[0mfname\u001b[0m\u001b[1;33m)\u001b[0m\u001b[1;33m\u001b[0m\u001b[1;33m\u001b[0m\u001b[0m\n\u001b[0;32m     43\u001b[0m     \u001b[0mdst\u001b[0m \u001b[1;33m=\u001b[0m \u001b[0mos\u001b[0m\u001b[1;33m.\u001b[0m\u001b[0mpath\u001b[0m\u001b[1;33m.\u001b[0m\u001b[0mjoin\u001b[0m\u001b[1;33m(\u001b[0m\u001b[0mtrain_aca_dir\u001b[0m\u001b[1;33m,\u001b[0m \u001b[0mfname\u001b[0m\u001b[1;33m)\u001b[0m\u001b[1;33m\u001b[0m\u001b[1;33m\u001b[0m\u001b[0m\n\u001b[1;32m---> 44\u001b[1;33m     \u001b[0mshutil\u001b[0m\u001b[1;33m.\u001b[0m\u001b[0mcopyfile\u001b[0m\u001b[1;33m(\u001b[0m\u001b[0msrc\u001b[0m\u001b[1;33m,\u001b[0m \u001b[0mdst\u001b[0m\u001b[1;33m)\u001b[0m\u001b[1;33m\u001b[0m\u001b[1;33m\u001b[0m\u001b[0m\n\u001b[0m\u001b[0;32m     45\u001b[0m \u001b[1;33m\u001b[0m\u001b[0m\n\u001b[0;32m     46\u001b[0m \u001b[1;31m# Copy next 40 aca images to validation_cats_dir\u001b[0m\u001b[1;33m\u001b[0m\u001b[1;33m\u001b[0m\u001b[1;33m\u001b[0m\u001b[0m\n",
      "\u001b[1;32m~\\anaconda3_2nd_download\\envs\\metis\\lib\\shutil.py\u001b[0m in \u001b[0;36mcopyfile\u001b[1;34m(src, dst, follow_symlinks)\u001b[0m\n\u001b[0;32m    262\u001b[0m         \u001b[0mos\u001b[0m\u001b[1;33m.\u001b[0m\u001b[0msymlink\u001b[0m\u001b[1;33m(\u001b[0m\u001b[0mos\u001b[0m\u001b[1;33m.\u001b[0m\u001b[0mreadlink\u001b[0m\u001b[1;33m(\u001b[0m\u001b[0msrc\u001b[0m\u001b[1;33m)\u001b[0m\u001b[1;33m,\u001b[0m \u001b[0mdst\u001b[0m\u001b[1;33m)\u001b[0m\u001b[1;33m\u001b[0m\u001b[1;33m\u001b[0m\u001b[0m\n\u001b[0;32m    263\u001b[0m     \u001b[1;32melse\u001b[0m\u001b[1;33m:\u001b[0m\u001b[1;33m\u001b[0m\u001b[1;33m\u001b[0m\u001b[0m\n\u001b[1;32m--> 264\u001b[1;33m         \u001b[1;32mwith\u001b[0m \u001b[0mopen\u001b[0m\u001b[1;33m(\u001b[0m\u001b[0msrc\u001b[0m\u001b[1;33m,\u001b[0m \u001b[1;34m'rb'\u001b[0m\u001b[1;33m)\u001b[0m \u001b[1;32mas\u001b[0m \u001b[0mfsrc\u001b[0m\u001b[1;33m,\u001b[0m \u001b[0mopen\u001b[0m\u001b[1;33m(\u001b[0m\u001b[0mdst\u001b[0m\u001b[1;33m,\u001b[0m \u001b[1;34m'wb'\u001b[0m\u001b[1;33m)\u001b[0m \u001b[1;32mas\u001b[0m \u001b[0mfdst\u001b[0m\u001b[1;33m:\u001b[0m\u001b[1;33m\u001b[0m\u001b[1;33m\u001b[0m\u001b[0m\n\u001b[0m\u001b[0;32m    265\u001b[0m             \u001b[1;31m# macOS\u001b[0m\u001b[1;33m\u001b[0m\u001b[1;33m\u001b[0m\u001b[1;33m\u001b[0m\u001b[0m\n\u001b[0;32m    266\u001b[0m             \u001b[1;32mif\u001b[0m \u001b[0m_HAS_FCOPYFILE\u001b[0m\u001b[1;33m:\u001b[0m\u001b[1;33m\u001b[0m\u001b[1;33m\u001b[0m\u001b[0m\n",
      "\u001b[1;31mFileNotFoundError\u001b[0m: [Errno 2] No such file or directory: '/Users/sandy/Desktop/lung_colon_image_set/lung_image_sets\\\\lungaca0.jpg'"
     ]
    }
   ],
   "source": [
    "# The path to the original directory with lung images\n",
    "# dataset is uncompressed\n",
    "original_dataset_dir = '/Users/sandy/Desktop/lung_colon_image_set/lung_image_sets'\n",
    "\n",
    "# The directory where we will\n",
    "# store our smaller dataset\n",
    "base_dir = '/Users/sandy/Desktop/Small Dataset'\n",
    "\n",
    "# Directories for our training,\n",
    "# validation and test splits\n",
    "train = os.path.join(base_dir, 'train')\n",
    "validation = os.path.join(base_dir, 'validation')\n",
    "test = os.path.join(base_dir, 'test')\n",
    "\n",
    "# Directory with our training aca pictures\n",
    "train_aca_dir = os.path.join(train, 'lung_aca')\n",
    "os.mkdir(train_aca_dir)\n",
    "\n",
    "# Directory with our training benign pictures\n",
    "train_benign_dir = os.path.join(train, 'lung_n')\n",
    "os.mkdir(train_benign_dir)\n",
    "\n",
    "# Directory with our validation aca pictures\n",
    "validation_aca_dir = os.path.join(validation, 'lung_aca')\n",
    "os.mkdir(validation_aca_dir)\n",
    "\n",
    "# Directory with our validation benign pictures\n",
    "validation_benign_dir = os.path.join(validation, 'lung_n')\n",
    "os.mkdir(validation_benign_dir)\n",
    "\n",
    "# Directory with our test aca pictures\n",
    "test_aca_dir = os.path.join(test, 'lung_aca')\n",
    "os.mkdir(test_aca_dir)\n",
    "\n",
    "# Directory with our test benign pictures\n",
    "test_benign_dir = os.path.join(test, 'lung_n')\n",
    "os.mkdir(test_benign_dir)\n",
    "\n"
   ]
  },
  {
   "cell_type": "code",
   "execution_count": 13,
   "id": "behind-effectiveness",
   "metadata": {},
   "outputs": [
    {
     "ename": "FileNotFoundError",
     "evalue": "[Errno 2] No such file or directory: '/Users/sandy/Desktop/lung_colon_image_set/lung_image_sets/lung_aca\\\\cat.200.jpeg'",
     "output_type": "error",
     "traceback": [
      "\u001b[1;31m---------------------------------------------------------------------------\u001b[0m",
      "\u001b[1;31mFileNotFoundError\u001b[0m                         Traceback (most recent call last)",
      "\u001b[1;32m<ipython-input-13-c3fd238c0e69>\u001b[0m in \u001b[0;36m<module>\u001b[1;34m\u001b[0m\n\u001b[0;32m     21\u001b[0m     \u001b[0msrc\u001b[0m \u001b[1;33m=\u001b[0m \u001b[0mos\u001b[0m\u001b[1;33m.\u001b[0m\u001b[0mpath\u001b[0m\u001b[1;33m.\u001b[0m\u001b[0mjoin\u001b[0m\u001b[1;33m(\u001b[0m\u001b[0moriginal_aca_dir\u001b[0m\u001b[1;33m,\u001b[0m \u001b[0mfname\u001b[0m\u001b[1;33m)\u001b[0m\u001b[1;33m\u001b[0m\u001b[1;33m\u001b[0m\u001b[0m\n\u001b[0;32m     22\u001b[0m     \u001b[0mdst\u001b[0m \u001b[1;33m=\u001b[0m \u001b[0mos\u001b[0m\u001b[1;33m.\u001b[0m\u001b[0mpath\u001b[0m\u001b[1;33m.\u001b[0m\u001b[0mjoin\u001b[0m\u001b[1;33m(\u001b[0m\u001b[0mtest_aca_dir\u001b[0m\u001b[1;33m,\u001b[0m \u001b[0mfname\u001b[0m\u001b[1;33m)\u001b[0m\u001b[1;33m\u001b[0m\u001b[1;33m\u001b[0m\u001b[0m\n\u001b[1;32m---> 23\u001b[1;33m     \u001b[0mshutil\u001b[0m\u001b[1;33m.\u001b[0m\u001b[0mcopyfile\u001b[0m\u001b[1;33m(\u001b[0m\u001b[0msrc\u001b[0m\u001b[1;33m,\u001b[0m \u001b[0mdst\u001b[0m\u001b[1;33m)\u001b[0m\u001b[1;33m\u001b[0m\u001b[1;33m\u001b[0m\u001b[0m\n\u001b[0m",
      "\u001b[1;32m~\\anaconda3_2nd_download\\envs\\metis\\lib\\shutil.py\u001b[0m in \u001b[0;36mcopyfile\u001b[1;34m(src, dst, follow_symlinks)\u001b[0m\n\u001b[0;32m    262\u001b[0m         \u001b[0mos\u001b[0m\u001b[1;33m.\u001b[0m\u001b[0msymlink\u001b[0m\u001b[1;33m(\u001b[0m\u001b[0mos\u001b[0m\u001b[1;33m.\u001b[0m\u001b[0mreadlink\u001b[0m\u001b[1;33m(\u001b[0m\u001b[0msrc\u001b[0m\u001b[1;33m)\u001b[0m\u001b[1;33m,\u001b[0m \u001b[0mdst\u001b[0m\u001b[1;33m)\u001b[0m\u001b[1;33m\u001b[0m\u001b[1;33m\u001b[0m\u001b[0m\n\u001b[0;32m    263\u001b[0m     \u001b[1;32melse\u001b[0m\u001b[1;33m:\u001b[0m\u001b[1;33m\u001b[0m\u001b[1;33m\u001b[0m\u001b[0m\n\u001b[1;32m--> 264\u001b[1;33m         \u001b[1;32mwith\u001b[0m \u001b[0mopen\u001b[0m\u001b[1;33m(\u001b[0m\u001b[0msrc\u001b[0m\u001b[1;33m,\u001b[0m \u001b[1;34m'rb'\u001b[0m\u001b[1;33m)\u001b[0m \u001b[1;32mas\u001b[0m \u001b[0mfsrc\u001b[0m\u001b[1;33m,\u001b[0m \u001b[0mopen\u001b[0m\u001b[1;33m(\u001b[0m\u001b[0mdst\u001b[0m\u001b[1;33m,\u001b[0m \u001b[1;34m'wb'\u001b[0m\u001b[1;33m)\u001b[0m \u001b[1;32mas\u001b[0m \u001b[0mfdst\u001b[0m\u001b[1;33m:\u001b[0m\u001b[1;33m\u001b[0m\u001b[1;33m\u001b[0m\u001b[0m\n\u001b[0m\u001b[0;32m    265\u001b[0m             \u001b[1;31m# macOS\u001b[0m\u001b[1;33m\u001b[0m\u001b[1;33m\u001b[0m\u001b[1;33m\u001b[0m\u001b[0m\n\u001b[0;32m    266\u001b[0m             \u001b[1;32mif\u001b[0m \u001b[0m_HAS_FCOPYFILE\u001b[0m\u001b[1;33m:\u001b[0m\u001b[1;33m\u001b[0m\u001b[1;33m\u001b[0m\u001b[0m\n",
      "\u001b[1;31mFileNotFoundError\u001b[0m: [Errno 2] No such file or directory: '/Users/sandy/Desktop/lung_colon_image_set/lung_image_sets/lung_aca\\\\cat.200.jpeg'"
     ]
    }
   ],
   "source": [
    "original_aca_dir = '/Users/sandy/Desktop/lung_colon_image_set/lung_image_sets/lung_aca'\n",
    "\n",
    "\n",
    "# Copy first 160 aca images to train_aca_dir\n",
    "fnames = ['lungaca{}.jpeg'.format(i) for i in range(1,160)]\n",
    "for fname in fnames:\n",
    "    src = os.path.join(original_aca_dir, fname)\n",
    "    dst = os.path.join(train_aca_dir, fname)\n",
    "    shutil.copyfile(src, dst)\n",
    "    \n",
    "# Copy next 40 aca images to validation_aca_dir\n",
    "fnames = ['lungaca{}.jpeg'.format(i) for i in range(160, 200)]\n",
    "for fname in fnames:\n",
    "    src = os.path.join(original_aca_dir, fname)\n",
    "    dst = os.path.join(validation_aca_dir, fname)\n",
    "    shutil.copyfile(src, dst)\n",
    "    \n"
   ]
  },
  {
   "cell_type": "code",
   "execution_count": 14,
   "id": "irish-application",
   "metadata": {},
   "outputs": [],
   "source": [
    "# Copy next 50 aca images to test_aca_dir\n",
    "fnames = ['lungaca{}.jpeg'.format(i) for i in range(200, 250)]\n",
    "for fname in fnames:\n",
    "    src = os.path.join(original_aca_dir, fname)\n",
    "    dst = os.path.join(test_aca_dir, fname)\n",
    "    shutil.copyfile(src, dst)"
   ]
  },
  {
   "cell_type": "code",
   "execution_count": 16,
   "id": "secondary-midnight",
   "metadata": {},
   "outputs": [],
   "source": [
    "original_benign_dir = '/Users/sandy/Desktop/lung_colon_image_set/lung_image_sets/lung_n'\n",
    "\n",
    "# Copy first 160 benign images to train_benign_dir\n",
    "fnames = ['lungn{}.jpeg'.format(i) for i in range(1,160)]\n",
    "for fname in fnames:\n",
    "    src = os.path.join(original_benign_dir, fname)\n",
    "    dst = os.path.join(train_benign_dir, fname)\n",
    "    shutil.copyfile(src, dst)\n",
    "    \n",
    "# Copy next 40 benign images to validation_benign_dir\n",
    "fnames = ['lungn{}.jpeg'.format(i) for i in range(160, 200)]\n",
    "for fname in fnames:\n",
    "    src = os.path.join(original_benign_dir, fname)\n",
    "    dst = os.path.join(validation_benign_dir, fname)\n",
    "    shutil.copyfile(src, dst)\n",
    "    \n",
    "# Copy next 50 benign images to test_benign_dir\n",
    "fnames = ['lungn{}.jpeg'.format(i) for i in range(200, 250)]\n",
    "for fname in fnames:\n",
    "    src = os.path.join(original_benign_dir, fname)\n",
    "    dst = os.path.join(test_benign_dir, fname)\n",
    "    shutil.copyfile(src, dst)"
   ]
  },
  {
   "cell_type": "code",
   "execution_count": 17,
   "id": "representative-patient",
   "metadata": {},
   "outputs": [
    {
     "name": "stdout",
     "output_type": "stream",
     "text": [
      "total training aca images: 159\n"
     ]
    }
   ],
   "source": [
    "# forgot to change 160 to 161\n",
    "print('total training aca images:', len(os.listdir(train_aca_dir)))"
   ]
  },
  {
   "cell_type": "code",
   "execution_count": 18,
   "id": "prime-armor",
   "metadata": {},
   "outputs": [
    {
     "name": "stdout",
     "output_type": "stream",
     "text": [
      "total training benign images: 159\n",
      "total validation aca images: 40\n",
      "total validation benign images: 40\n",
      "total test aca images: 50\n",
      "total test benign images: 50\n"
     ]
    }
   ],
   "source": [
    "print('total training benign images:', len(os.listdir(train_benign_dir)))\n",
    "print('total validation aca images:', len(os.listdir(validation_aca_dir)))\n",
    "print('total validation benign images:', len(os.listdir(validation_benign_dir)))\n",
    "print('total test aca images:', len(os.listdir(test_aca_dir)))\n",
    "print('total test benign images:', len(os.listdir(test_benign_dir)))"
   ]
  },
  {
   "cell_type": "code",
   "execution_count": 19,
   "id": "allied-appreciation",
   "metadata": {},
   "outputs": [],
   "source": [
    "from keras import layers\n",
    "from keras import models\n",
    "\n",
    "model = models.Sequential()\n",
    "model.add(layers.Conv2D(32, (3, 3), activation='relu',\n",
    "                        input_shape=(150, 150, 3)))\n",
    "model.add(layers.MaxPooling2D((2, 2)))\n",
    "model.add(layers.Conv2D(64, (3, 3), activation='relu'))\n",
    "model.add(layers.MaxPooling2D((2, 2)))\n",
    "model.add(layers.Conv2D(128, (3, 3), activation='relu'))\n",
    "model.add(layers.MaxPooling2D((2, 2)))\n",
    "model.add(layers.Conv2D(128, (3, 3), activation='relu'))\n",
    "model.add(layers.MaxPooling2D((2, 2)))\n",
    "model.add(layers.Flatten())\n",
    "model.add(layers.Dense(512, activation='relu'))\n",
    "model.add(layers.Dense(1, activation='sigmoid'))"
   ]
  },
  {
   "cell_type": "code",
   "execution_count": 20,
   "id": "passive-bracelet",
   "metadata": {},
   "outputs": [
    {
     "name": "stdout",
     "output_type": "stream",
     "text": [
      "Model: \"sequential\"\n",
      "_________________________________________________________________\n",
      "Layer (type)                 Output Shape              Param #   \n",
      "=================================================================\n",
      "conv2d (Conv2D)              (None, 148, 148, 32)      896       \n",
      "_________________________________________________________________\n",
      "max_pooling2d (MaxPooling2D) (None, 74, 74, 32)        0         \n",
      "_________________________________________________________________\n",
      "conv2d_1 (Conv2D)            (None, 72, 72, 64)        18496     \n",
      "_________________________________________________________________\n",
      "max_pooling2d_1 (MaxPooling2 (None, 36, 36, 64)        0         \n",
      "_________________________________________________________________\n",
      "conv2d_2 (Conv2D)            (None, 34, 34, 128)       73856     \n",
      "_________________________________________________________________\n",
      "max_pooling2d_2 (MaxPooling2 (None, 17, 17, 128)       0         \n",
      "_________________________________________________________________\n",
      "conv2d_3 (Conv2D)            (None, 15, 15, 128)       147584    \n",
      "_________________________________________________________________\n",
      "max_pooling2d_3 (MaxPooling2 (None, 7, 7, 128)         0         \n",
      "_________________________________________________________________\n",
      "flatten (Flatten)            (None, 6272)              0         \n",
      "_________________________________________________________________\n",
      "dense (Dense)                (None, 512)               3211776   \n",
      "_________________________________________________________________\n",
      "dense_1 (Dense)              (None, 1)                 513       \n",
      "=================================================================\n",
      "Total params: 3,453,121\n",
      "Trainable params: 3,453,121\n",
      "Non-trainable params: 0\n",
      "_________________________________________________________________\n"
     ]
    }
   ],
   "source": [
    "model.summary()"
   ]
  },
  {
   "cell_type": "code",
   "execution_count": 21,
   "id": "advisory-rebel",
   "metadata": {},
   "outputs": [],
   "source": [
    "from keras import optimizers\n",
    "\n",
    "model.compile(loss='binary_crossentropy',\n",
    "              optimizer='adam',\n",
    "              metrics=['acc'])"
   ]
  },
  {
   "cell_type": "code",
   "execution_count": 24,
   "id": "recreational-compression",
   "metadata": {},
   "outputs": [
    {
     "ename": "ModuleNotFoundError",
     "evalue": "No module named 'cv2'",
     "output_type": "error",
     "traceback": [
      "\u001b[1;31m---------------------------------------------------------------------------\u001b[0m",
      "\u001b[1;31mModuleNotFoundError\u001b[0m                       Traceback (most recent call last)",
      "\u001b[1;32m<ipython-input-24-2842ee79e5c4>\u001b[0m in \u001b[0;36m<module>\u001b[1;34m\u001b[0m\n\u001b[1;32m----> 1\u001b[1;33m \u001b[1;32mimport\u001b[0m \u001b[0mcv2\u001b[0m\u001b[1;33m\u001b[0m\u001b[1;33m\u001b[0m\u001b[0m\n\u001b[0m\u001b[0;32m      2\u001b[0m \u001b[0mcv2\u001b[0m\u001b[1;33m.\u001b[0m\u001b[0mimread\u001b[0m\u001b[1;33m(\u001b[0m\u001b[1;34m'/Users/sandy/Desktop/Small Dataset/train/lung_aca/lungaca1.jpeg'\u001b[0m\u001b[1;33m)\u001b[0m\u001b[1;33m\u001b[0m\u001b[1;33m\u001b[0m\u001b[0m\n",
      "\u001b[1;31mModuleNotFoundError\u001b[0m: No module named 'cv2'"
     ]
    }
   ],
   "source": [
    "import cv2\n",
    "cv2.imread('/Users/sandy/Desktop/Small Dataset/train/lung_aca/lungaca1.jpeg')"
   ]
  },
  {
   "cell_type": "code",
   "execution_count": 31,
   "id": "modern-brazilian",
   "metadata": {},
   "outputs": [
    {
     "name": "stdout",
     "output_type": "stream",
     "text": [
      "Found 318 images belonging to 2 classes.\n",
      "Found 80 images belonging to 2 classes.\n"
     ]
    }
   ],
   "source": [
    "from keras.preprocessing.image import ImageDataGenerator\n",
    "\n",
    "# All images will be rescaled by 1./255\n",
    "train_datagen = ImageDataGenerator(rescale=1./255)\n",
    "test_datagen = ImageDataGenerator(rescale=1./255)\n",
    "\n",
    "train_generator = train_datagen.flow_from_directory(\n",
    "        # This is the target directory\n",
    "        train,\n",
    "        # All images will be resized to 150x150\n",
    "        target_size=(150, 150),\n",
    "        batch_size=5,\n",
    "        # Since we use binary_crossentropy loss, we need binary labels\n",
    "        class_mode='binary')\n",
    "\n",
    "validation_generator = test_datagen.flow_from_directory(\n",
    "        validation,\n",
    "        target_size=(150, 150),\n",
    "        batch_size=5,\n",
    "        class_mode='binary')"
   ]
  },
  {
   "cell_type": "code",
   "execution_count": 32,
   "id": "egyptian-purse",
   "metadata": {},
   "outputs": [
    {
     "name": "stdout",
     "output_type": "stream",
     "text": [
      "data batch shape: (5, 150, 150, 3)\n",
      "labels batch shape: (5,)\n"
     ]
    }
   ],
   "source": [
    "for data_batch, labels_batch in train_generator:\n",
    "    print('data batch shape:', data_batch.shape)\n",
    "    print('labels batch shape:', labels_batch.shape)\n",
    "    break"
   ]
  },
  {
   "cell_type": "code",
   "execution_count": 36,
   "id": "numeric-pizza",
   "metadata": {},
   "outputs": [
    {
     "name": "stdout",
     "output_type": "stream",
     "text": [
      "Epoch 1/30\n",
      "3/3 [==============================] - 0s 193ms/step - loss: 0.0139 - acc: 1.0000 - val_loss: 1.8830 - val_acc: 0.9333\n",
      "Epoch 2/30\n",
      "3/3 [==============================] - 0s 166ms/step - loss: 2.5493e-04 - acc: 1.0000 - val_loss: 3.0932e-04 - val_acc: 1.0000\n",
      "Epoch 3/30\n",
      "3/3 [==============================] - 0s 173ms/step - loss: 3.6572e-05 - acc: 1.0000 - val_loss: 9.8515e-04 - val_acc: 1.0000\n",
      "Epoch 4/30\n",
      "3/3 [==============================] - 0s 167ms/step - loss: 3.1513e-05 - acc: 1.0000 - val_loss: 1.9576 - val_acc: 0.8667\n",
      "Epoch 5/30\n",
      "3/3 [==============================] - 0s 194ms/step - loss: 1.4357e-05 - acc: 1.0000 - val_loss: 0.0430 - val_acc: 1.0000\n",
      "Epoch 6/30\n",
      "3/3 [==============================] - 0s 167ms/step - loss: 0.0084 - acc: 1.0000 - val_loss: 4.4658e-04 - val_acc: 1.0000\n",
      "Epoch 7/30\n",
      "3/3 [==============================] - 0s 168ms/step - loss: 5.8497e-06 - acc: 1.0000 - val_loss: 2.8940e-05 - val_acc: 1.0000\n",
      "Epoch 8/30\n",
      "3/3 [==============================] - 0s 166ms/step - loss: 0.1225 - acc: 0.9333 - val_loss: 3.8402e-04 - val_acc: 1.0000\n",
      "Epoch 9/30\n",
      "3/3 [==============================] - 0s 159ms/step - loss: 1.5522e-06 - acc: 1.0000 - val_loss: 0.8557 - val_acc: 0.9333\n",
      "Epoch 10/30\n",
      "3/3 [==============================] - 0s 170ms/step - loss: 0.7409 - acc: 0.9333 - val_loss: 0.1737 - val_acc: 0.9333\n",
      "Epoch 11/30\n",
      "3/3 [==============================] - 0s 178ms/step - loss: 0.0246 - acc: 1.0000 - val_loss: 0.1280 - val_acc: 0.8667\n",
      "Epoch 12/30\n",
      "3/3 [==============================] - 0s 167ms/step - loss: 0.0359 - acc: 1.0000 - val_loss: 0.0884 - val_acc: 1.0000\n",
      "Epoch 13/30\n",
      "3/3 [==============================] - 0s 165ms/step - loss: 0.0820 - acc: 1.0000 - val_loss: 0.1559 - val_acc: 0.9333\n",
      "Epoch 14/30\n",
      "3/3 [==============================] - 0s 161ms/step - loss: 0.0690 - acc: 1.0000 - val_loss: 0.2181 - val_acc: 0.9333\n",
      "Epoch 15/30\n",
      "3/3 [==============================] - 0s 171ms/step - loss: 0.0557 - acc: 1.0000 - val_loss: 0.0763 - val_acc: 1.0000\n",
      "Epoch 16/30\n",
      "3/3 [==============================] - 0s 167ms/step - loss: 0.0197 - acc: 1.0000 - val_loss: 0.0111 - val_acc: 1.0000\n",
      "Epoch 17/30\n",
      "3/3 [==============================] - 0s 163ms/step - loss: 0.0099 - acc: 1.0000 - val_loss: 0.0051 - val_acc: 1.0000\n",
      "Epoch 18/30\n",
      "3/3 [==============================] - 0s 162ms/step - loss: 0.0332 - acc: 1.0000 - val_loss: 8.7182e-04 - val_acc: 1.0000\n",
      "Epoch 19/30\n",
      "3/3 [==============================] - 1s 198ms/step - loss: 0.0308 - acc: 1.0000 - val_loss: 3.0603 - val_acc: 0.9333\n",
      "Epoch 20/30\n",
      "3/3 [==============================] - 0s 151ms/step - loss: 7.9054e-05 - acc: 1.0000 - val_loss: 0.0624 - val_acc: 0.9333\n",
      "Epoch 21/30\n",
      "3/3 [==============================] - 0s 153ms/step - loss: 7.7044e-07 - acc: 1.0000 - val_loss: 1.1907e-07 - val_acc: 1.0000\n",
      "Epoch 22/30\n",
      "3/3 [==============================] - 0s 166ms/step - loss: 8.3350e-04 - acc: 1.0000 - val_loss: 2.4289e-08 - val_acc: 1.0000\n",
      "Epoch 23/30\n",
      "3/3 [==============================] - 1s 205ms/step - loss: 4.2771e-10 - acc: 1.0000 - val_loss: 3.9827e-09 - val_acc: 1.0000\n",
      "Epoch 24/30\n",
      "3/3 [==============================] - 0s 165ms/step - loss: 4.0467e-07 - acc: 1.0000 - val_loss: 3.5365 - val_acc: 0.9333\n",
      "Epoch 25/30\n",
      "3/3 [==============================] - 0s 172ms/step - loss: 1.1525 - acc: 0.9333 - val_loss: 16.8319 - val_acc: 0.4667\n",
      "Epoch 26/30\n",
      "3/3 [==============================] - 0s 161ms/step - loss: 4.7463 - acc: 0.9333 - val_loss: 0.1421 - val_acc: 0.9333\n",
      "Epoch 27/30\n",
      "3/3 [==============================] - 0s 167ms/step - loss: 0.5859 - acc: 0.7333 - val_loss: 0.6088 - val_acc: 0.6000\n",
      "Epoch 28/30\n",
      "3/3 [==============================] - 0s 169ms/step - loss: 0.5623 - acc: 0.6000 - val_loss: 0.6600 - val_acc: 0.6667\n",
      "Epoch 29/30\n",
      "3/3 [==============================] - 1s 190ms/step - loss: 0.7317 - acc: 0.4667 - val_loss: 0.6385 - val_acc: 0.5333\n",
      "Epoch 30/30\n",
      "3/3 [==============================] - 0s 162ms/step - loss: 0.5626 - acc: 0.5333 - val_loss: 0.5748 - val_acc: 0.5333\n"
     ]
    }
   ],
   "source": [
    "history = model.fit(\n",
    "      train_generator,\n",
    "      steps_per_epoch=3,\n",
    "      epochs=30,\n",
    "      validation_data=validation_generator,\n",
    "      validation_steps=3)"
   ]
  },
  {
   "cell_type": "code",
   "execution_count": 37,
   "id": "disturbed-reduction",
   "metadata": {},
   "outputs": [],
   "source": [
    "model.save('small_lung1.h5')"
   ]
  },
  {
   "cell_type": "code",
   "execution_count": 38,
   "id": "worldwide-usage",
   "metadata": {},
   "outputs": [
    {
     "data": {
      "image/png": "[encoded data removed]",
      "text/plain": [
       "<Figure size 432x288 with 1 Axes>"
      ]
     },
     "metadata": {
      "needs_background": "light"
     },
     "output_type": "display_data"
    },
    {
     "data": {
      "image/png": "[encoded data removed]",
      "text/plain": [
       "<Figure size 432x288 with 1 Axes>"
      ]
     },
     "metadata": {
      "needs_background": "light"
     },
     "output_type": "display_data"
    }
   ],
   "source": [
    "import matplotlib.pyplot as plt\n",
    "\n",
    "acc = history.history['acc']\n",
    "val_acc = history.history['val_acc']\n",
    "loss = history.history['loss']\n",
    "val_loss = history.history['val_loss']\n",
    "\n",
    "epochs = range(len(acc))\n",
    "\n",
    "plt.plot(epochs, acc, 'bo', label='Training acc')\n",
    "plt.plot(epochs, val_acc, 'b', label='Validation acc')\n",
    "plt.title('Training and validation accuracy')\n",
    "plt.legend()\n",
    "\n",
    "plt.figure()\n",
    "\n",
    "plt.plot(epochs, loss, 'bo', label='Training loss')\n",
    "plt.plot(epochs, val_loss, 'b', label='Validation loss')\n",
    "plt.title('Training and validation loss')\n",
    "plt.legend()\n",
    "\n",
    "plt.show()"
   ]
  },
  {
   "cell_type": "code",
   "execution_count": 39,
   "id": "automated-faith",
   "metadata": {},
   "outputs": [
    {
     "data": {
      "text/plain": [
       "{'lung_aca': 0, 'lung_n': 1}"
      ]
     },
     "execution_count": 39,
     "metadata": {},
     "output_type": "execute_result"
    }
   ],
   "source": [
    "train_generator.class_indices"
   ]
  },
  {
   "cell_type": "markdown",
   "id": "mighty-uzbekistan",
   "metadata": {},
   "source": [
    "# early stopping"
   ]
  },
  {
   "cell_type": "code",
   "execution_count": 8,
   "id": "unlike-memory",
   "metadata": {},
   "outputs": [],
   "source": [
    "import tensorflow as tf\n",
    "from tensorflow import keras\n",
    "\n",
    "new_model = tf.keras.models.load_model('/Users/sandy/Desktop/small_lung1.h5')"
   ]
  },
  {
   "cell_type": "code",
   "execution_count": 9,
   "id": "forced-effects",
   "metadata": {
    "scrolled": true
   },
   "outputs": [
    {
     "name": "stdout",
     "output_type": "stream",
     "text": [
      "Model: \"sequential\"\n",
      "_________________________________________________________________\n",
      "Layer (type)                 Output Shape              Param #   \n",
      "=================================================================\n",
      "conv2d (Conv2D)              (None, 148, 148, 32)      896       \n",
      "_________________________________________________________________\n",
      "max_pooling2d (MaxPooling2D) (None, 74, 74, 32)        0         \n",
      "_________________________________________________________________\n",
      "conv2d_1 (Conv2D)            (None, 72, 72, 64)        18496     \n",
      "_________________________________________________________________\n",
      "max_pooling2d_1 (MaxPooling2 (None, 36, 36, 64)        0         \n",
      "_________________________________________________________________\n",
      "conv2d_2 (Conv2D)            (None, 34, 34, 128)       73856     \n",
      "_________________________________________________________________\n",
      "max_pooling2d_2 (MaxPooling2 (None, 17, 17, 128)       0         \n",
      "_________________________________________________________________\n",
      "conv2d_3 (Conv2D)            (None, 15, 15, 128)       147584    \n",
      "_________________________________________________________________\n",
      "max_pooling2d_3 (MaxPooling2 (None, 7, 7, 128)         0         \n",
      "_________________________________________________________________\n",
      "flatten (Flatten)            (None, 6272)              0         \n",
      "_________________________________________________________________\n",
      "dense (Dense)                (None, 512)               3211776   \n",
      "_________________________________________________________________\n",
      "dense_1 (Dense)              (None, 1)                 513       \n",
      "=================================================================\n",
      "Total params: 3,453,121\n",
      "Trainable params: 3,453,121\n",
      "Non-trainable params: 0\n",
      "_________________________________________________________________\n"
     ]
    }
   ],
   "source": [
    "new_model.summary()"
   ]
  },
  {
   "cell_type": "code",
   "execution_count": 10,
   "id": "native-pierre",
   "metadata": {},
   "outputs": [],
   "source": [
    "import os\n",
    "base_dir = '/Users/sandy/Desktop/Small Dataset'\n",
    "\n",
    "train = os.path.join(base_dir, 'train')\n",
    "validation = os.path.join(base_dir, 'validation')\n",
    "test = os.path.join(base_dir, 'test')\n"
   ]
  },
  {
   "cell_type": "code",
   "execution_count": 11,
   "id": "toxic-antarctica",
   "metadata": {},
   "outputs": [
    {
     "name": "stdout",
     "output_type": "stream",
     "text": [
      "Found 478 images belonging to 3 classes.\n",
      "Found 120 images belonging to 3 classes.\n"
     ]
    }
   ],
   "source": [
    "from keras.preprocessing.image import ImageDataGenerator\n",
    "\n",
    "# All images will be rescaled by 1./255\n",
    "train_datagen = ImageDataGenerator(rescale=1./255, \n",
    "                                   rotation_range=30, \n",
    "                                   width_shift_range=0.2,\n",
    "                                   height_shift_range=0.2, \n",
    "                                   horizontal_flip = 'true')\n",
    "test_datagen = ImageDataGenerator(rescale=1./255)\n",
    "\n",
    "train_generator = train_datagen.flow_from_directory(\n",
    "        # This is the target directory\n",
    "        train,\n",
    "        # All images will be resized to 150x150\n",
    "        target_size=(150, 150),\n",
    "        batch_size=5,\n",
    "        # Since we use binary_crossentropy loss, we need binary labels\n",
    "        class_mode='binary')\n",
    "\n",
    "validation_generator = test_datagen.flow_from_directory(\n",
    "        validation,\n",
    "        target_size=(150, 150),\n",
    "        batch_size=5,\n",
    "        class_mode='binary')"
   ]
  },
  {
   "cell_type": "code",
   "execution_count": 12,
   "id": "moved-banking",
   "metadata": {},
   "outputs": [
    {
     "name": "stdout",
     "output_type": "stream",
     "text": [
      "Epoch 1/50\n",
      "3/3 [==============================] - 1s 372ms/step - loss: 0.5920 - acc: 0.4000 - val_loss: 0.4669 - val_acc: 0.4400\n",
      "Epoch 2/50\n",
      "3/3 [==============================] - 1s 215ms/step - loss: 0.4789 - acc: 0.3333 - val_loss: 0.7672 - val_acc: 0.3200\n",
      "Epoch 3/50\n",
      "3/3 [==============================] - 1s 213ms/step - loss: -0.3981 - acc: 0.5333 - val_loss: 4.6039 - val_acc: 0.4000\n",
      "Epoch 4/50\n",
      "3/3 [==============================] - 1s 206ms/step - loss: -28.0111 - acc: 0.2000 - val_loss: -2.4410 - val_acc: 0.3200\n",
      "Epoch 5/50\n",
      "3/3 [==============================] - 1s 208ms/step - loss: 35.8326 - acc: 0.5333 - val_loss: -23.9377 - val_acc: 0.4400\n",
      "Epoch 6/50\n",
      "3/3 [==============================] - 1s 211ms/step - loss: 20.6984 - acc: 0.2667 - val_loss: 11.0517 - val_acc: 0.3600\n",
      "Epoch 7/50\n",
      "3/3 [==============================] - 1s 233ms/step - loss: -4.3371 - acc: 0.3333 - val_loss: 5.2276 - val_acc: 0.3200\n",
      "Epoch 8/50\n",
      "3/3 [==============================] - 1s 213ms/step - loss: 2.3570 - acc: 0.2667 - val_loss: -2.0238 - val_acc: 0.3600\n",
      "Epoch 9/50\n",
      "3/3 [==============================] - 1s 220ms/step - loss: -8.9253 - acc: 0.1333 - val_loss: -3.4222 - val_acc: 0.3200\n",
      "Epoch 10/50\n",
      "3/3 [==============================] - 1s 233ms/step - loss: -6.1358 - acc: 0.2667 - val_loss: -4.4262 - val_acc: 0.2000\n",
      "Epoch 11/50\n",
      "3/3 [==============================] - 1s 229ms/step - loss: 2.9918 - acc: 0.3333 - val_loss: 10.0631 - val_acc: 0.2400\n",
      "Epoch 12/50\n",
      "3/3 [==============================] - 1s 225ms/step - loss: -40.9206 - acc: 0.4000 - val_loss: -28.3177 - val_acc: 0.3200\n",
      "Epoch 13/50\n",
      "3/3 [==============================] - 1s 250ms/step - loss: -41.9679 - acc: 0.3333 - val_loss: -36.5532 - val_acc: 0.3600\n",
      "Epoch 14/50\n",
      "3/3 [==============================] - 1s 212ms/step - loss: 1.2831 - acc: 0.2000 - val_loss: 258.3185 - val_acc: 0.2800\n",
      "Epoch 15/50\n",
      "3/3 [==============================] - 1s 213ms/step - loss: 10.7436 - acc: 0.3333 - val_loss: 353.9483 - val_acc: 0.3200\n",
      "Epoch 16/50\n",
      "3/3 [==============================] - 1s 218ms/step - loss: 130.8819 - acc: 0.5333 - val_loss: 299.5995 - val_acc: 0.2800\n",
      "Epoch 17/50\n",
      "3/3 [==============================] - 1s 221ms/step - loss: 83.0177 - acc: 0.1333 - val_loss: 100.2874 - val_acc: 0.3600\n",
      "Epoch 18/50\n",
      "3/3 [==============================] - 1s 209ms/step - loss: -22.8167 - acc: 0.3333 - val_loss: 19.0445 - val_acc: 0.4000\n",
      "Epoch 19/50\n",
      "3/3 [==============================] - 1s 205ms/step - loss: 59.9205 - acc: 0.4000 - val_loss: 9.6203 - val_acc: 0.4000\n",
      "Epoch 20/50\n",
      "3/3 [==============================] - 1s 205ms/step - loss: -3.6607 - acc: 0.2000 - val_loss: -4.6526 - val_acc: 0.2800\n",
      "Epoch 21/50\n",
      "3/3 [==============================] - 1s 214ms/step - loss: 3.4412 - acc: 0.5333 - val_loss: -1.3373 - val_acc: 0.3600\n"
     ]
    }
   ],
   "source": [
    "callback = tf.keras.callbacks.EarlyStopping(monitor='loss', patience=8)\n",
    "history = new_model.fit(\n",
    "      train_generator,\n",
    "      steps_per_epoch=3,\n",
    "      epochs=50,\n",
    "      validation_data=validation_generator,\n",
    "      validation_steps=5, callbacks=[callback])"
   ]
  },
  {
   "cell_type": "markdown",
   "id": "governing-nursery",
   "metadata": {},
   "source": [
    "# validation accuracy of 0.32 and loss of 0.25"
   ]
  },
  {
   "cell_type": "code",
   "execution_count": 27,
   "id": "historical-fence",
   "metadata": {},
   "outputs": [
    {
     "name": "stdout",
     "output_type": "stream",
     "text": [
      "Found 650 images belonging to 3 classes.\n",
      "33/50 [==================>...........] - ETA: 2s - loss: 15.5677 - acc: 0.3333WARNING:tensorflow:Your input ran out of data; interrupting training. Make sure that your dataset or generator can generate at least `steps_per_epoch * epochs` batches (in this case, 50 batches). You may need to use the repeat() function when building your dataset.\n",
      "50/50 [==============================] - 5s 97ms/step - loss: 15.5677 - acc: 0.3333\n",
      "test acc: 0.33333340287208557\n"
     ]
    }
   ],
   "source": [
    "test_generator = test_datagen.flow_from_directory(\n",
    "        test,\n",
    "        target_size=(150, 150),\n",
    "        batch_size=20,\n",
    "        class_mode='categorical', shuffle=False)\n",
    "\n",
    "test_loss, test_acc = new_model.evaluate(test_generator, steps=50)\n",
    "print('test acc:', test_acc)"
   ]
  },
  {
   "cell_type": "code",
   "execution_count": 28,
   "id": "automated-karaoke",
   "metadata": {},
   "outputs": [],
   "source": [
    "import numpy as np\n",
    "test_steps_per_epoch = np.math.ceil(test_generator.samples / test_generator.batch_size)\n",
    "\n",
    "predictions = new_model.predict(test_generator, steps=test_steps_per_epoch)\n",
    "# Get most likely class\n",
    "predicted_classes = np.argmax(predictions, axis=1)"
   ]
  },
  {
   "cell_type": "code",
   "execution_count": 29,
   "id": "magnetic-kenya",
   "metadata": {},
   "outputs": [],
   "source": [
    "true_classes = test_generator.classes\n",
    "class_labels = list(test_generator.class_indices.keys())   "
   ]
  },
  {
   "cell_type": "code",
   "execution_count": 30,
   "id": "bored-protein",
   "metadata": {},
   "outputs": [
    {
     "data": {
      "text/plain": [
       "['lung_aca', 'lung_n', 'lung_scc']"
      ]
     },
     "execution_count": 30,
     "metadata": {},
     "output_type": "execute_result"
    }
   ],
   "source": [
    "class_labels"
   ]
  },
  {
   "cell_type": "code",
   "execution_count": 31,
   "id": "hired-optimum",
   "metadata": {},
   "outputs": [
    {
     "name": "stdout",
     "output_type": "stream",
     "text": [
      "              precision    recall  f1-score   support\n",
      "\n",
      "    lung_aca       0.08      1.00      0.14        50\n",
      "      lung_n       0.00      0.00      0.00        50\n",
      "    lung_scc       0.00      0.00      0.00       550\n",
      "\n",
      "    accuracy                           0.08       650\n",
      "   macro avg       0.03      0.33      0.05       650\n",
      "weighted avg       0.01      0.08      0.01       650\n",
      "\n"
     ]
    },
    {
     "name": "stderr",
     "output_type": "stream",
     "text": [
      "C:\\Users\\sandy\\anaconda3_2nd_download\\envs\\metis\\lib\\site-packages\\sklearn\\metrics\\_classification.py:1245: UndefinedMetricWarning: Precision and F-score are ill-defined and being set to 0.0 in labels with no predicted samples. Use `zero_division` parameter to control this behavior.\n",
      "  _warn_prf(average, modifier, msg_start, len(result))\n",
      "C:\\Users\\sandy\\anaconda3_2nd_download\\envs\\metis\\lib\\site-packages\\sklearn\\metrics\\_classification.py:1245: UndefinedMetricWarning: Precision and F-score are ill-defined and being set to 0.0 in labels with no predicted samples. Use `zero_division` parameter to control this behavior.\n",
      "  _warn_prf(average, modifier, msg_start, len(result))\n",
      "C:\\Users\\sandy\\anaconda3_2nd_download\\envs\\metis\\lib\\site-packages\\sklearn\\metrics\\_classification.py:1245: UndefinedMetricWarning: Precision and F-score are ill-defined and being set to 0.0 in labels with no predicted samples. Use `zero_division` parameter to control this behavior.\n",
      "  _warn_prf(average, modifier, msg_start, len(result))\n"
     ]
    }
   ],
   "source": [
    "from sklearn import metrics\n",
    "report = metrics.classification_report(true_classes, predicted_classes, target_names=class_labels)\n",
    "print(report)   "
   ]
  },
  {
   "cell_type": "code",
   "execution_count": 32,
   "id": "quick-lesbian",
   "metadata": {},
   "outputs": [],
   "source": [
    "predictions = new_model.predict(test_generator)"
   ]
  },
  {
   "cell_type": "code",
   "execution_count": 33,
   "id": "environmental-ending",
   "metadata": {},
   "outputs": [
    {
     "name": "stdout",
     "output_type": "stream",
     "text": [
      "Confusion Matrix\n",
      "[[40  0  0]\n",
      " [40  0  0]\n",
      " [40  0  0]]\n"
     ]
    }
   ],
   "source": [
    "from sklearn.metrics import confusion_matrix\n",
    "Y_pred = new_model.predict(validation_generator, test_generator.samples / test_generator.batch_size)\n",
    "y_pred = np.argmax(Y_pred, axis=1)\n",
    "print('Confusion Matrix')\n",
    "print(confusion_matrix(validation_generator.classes, y_pred))"
   ]
  },
  {
   "cell_type": "code",
   "execution_count": null,
   "id": "representative-candy",
   "metadata": {},
   "outputs": [],
   "source": []
  }
 ],
 "metadata": {
  "kernelspec": {
   "display_name": "Python [conda env:metis] *",
   "language": "python",
   "name": "conda-env-metis-py"
  },
  "language_info": {
   "codemirror_mode": {
    "name": "ipython",
    "version": 3
   },
   "file_extension": ".py",
   "mimetype": "text/x-python",
   "name": "python",
   "nbconvert_exporter": "python",
   "pygments_lexer": "ipython3",
   "version": "3.8.8"
  }
 },
 "nbformat": 4,
 "nbformat_minor": 5
}

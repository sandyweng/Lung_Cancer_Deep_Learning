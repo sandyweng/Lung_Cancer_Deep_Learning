{
 "cells": [
  {
   "cell_type": "code",
   "execution_count": 1,
   "id": "failing-allen",
   "metadata": {},
   "outputs": [],
   "source": [
    "import keras\n",
    "import os, shutil"
   ]
  },
  {
   "cell_type": "code",
   "execution_count": 6,
   "id": "cellular-crown",
   "metadata": {},
   "outputs": [],
   "source": [
    "# The path to the original directory with lung images\n",
    "# dataset is uncompressed\n",
    "original_dataset_dir = '/Users/sandy/Desktop/lung_colon_image_set/lung_image_sets'\n",
    "original_aca_dir = '/Users/sandy/Desktop/lung_colon_image_set/lung_image_sets/lung_aca'\n",
    "original_benign_dir = '/Users/sandy/Desktop/lung_colon_image_set/lung_image_sets/lung_n'\n",
    "original_scc_dir = '/Users/sandy/Desktop/lung_colon_image_set/lung_image_sets/lung_scc'\n",
    "\n",
    "# The directory where we will\n",
    "# store our separated dataset\n",
    "base_dir = '/Users/sandy/Desktop/Separated_Images'\n",
    "os.mkdir(base_dir)\n",
    "\n",
    "# Directories for our training,\n",
    "# validation and test splits\n",
    "train = os.path.join(base_dir, 'train')\n",
    "os.mkdir(train)\n",
    "validation = os.path.join(base_dir, 'validation')\n",
    "os.mkdir(validation)\n",
    "test = os.path.join(base_dir, 'test')\n",
    "os.mkdir(test)\n",
    "\n",
    "# Directory with our training aca pictures\n",
    "train_aca_dir = os.path.join(train, 'lung_aca')\n",
    "os.mkdir(train_aca_dir)\n",
    "\n",
    "# Directory with our training benign pictures\n",
    "train_benign_dir = os.path.join(train, 'lung_n')\n",
    "os.mkdir(train_benign_dir)\n",
    "\n",
    "# Directory with our training scc pictures\n",
    "train_scc_dir = os.path.join(train, 'lung_scc')\n",
    "os.mkdir(train_scc_dir)\n",
    "\n",
    "# Directory with our validation aca pictures\n",
    "validation_aca_dir = os.path.join(validation, 'lung_aca')\n",
    "os.mkdir(validation_aca_dir)\n",
    "\n",
    "# Directory with our validation benign pictures\n",
    "validation_benign_dir = os.path.join(validation, 'lung_n')\n",
    "os.mkdir(validation_benign_dir)\n",
    "\n",
    "# Directory with our validation scc pictures\n",
    "validation_scc_dir = os.path.join(validation, 'lung_scc')\n",
    "os.mkdir(validation_scc_dir)\n",
    "\n",
    "# Directory with our test aca pictures\n",
    "test_aca_dir = os.path.join(test, 'lung_aca')\n",
    "os.mkdir(test_aca_dir)\n",
    "\n",
    "# Directory with our test benign pictures\n",
    "test_benign_dir = os.path.join(test, 'lung_n')\n",
    "os.mkdir(test_benign_dir)\n",
    "\n",
    "# Directory with our test scc pictures\n",
    "test_scc_dir = os.path.join(test, 'lung_scc')\n",
    "os.mkdir(test_scc_dir)"
   ]
  },
  {
   "cell_type": "code",
   "execution_count": 7,
   "id": "spread-stockholm",
   "metadata": {},
   "outputs": [],
   "source": [
    "\n",
    "# Copy first 3200 aca images to train_aca_dir\n",
    "fnames = ['lungaca{}.jpeg'.format(i) for i in range(1,3201)]\n",
    "for fname in fnames:\n",
    "    src = os.path.join(original_aca_dir, fname)\n",
    "    dst = os.path.join(train_aca_dir, fname)\n",
    "    shutil.copyfile(src, dst)\n",
    "    \n",
    "# Copy next 800 aca images to validation_aca_dir\n",
    "fnames = ['lungaca{}.jpeg'.format(i) for i in range(3201, 4001)]\n",
    "for fname in fnames:\n",
    "    src = os.path.join(original_aca_dir, fname)\n",
    "    dst = os.path.join(validation_aca_dir, fname)\n",
    "    shutil.copyfile(src, dst)\n",
    "    \n",
    "# Copy next 1000 aca images to test_aca_dir\n",
    "fnames = ['lungaca{}.jpeg'.format(i) for i in range(4000, 5001)]\n",
    "for fname in fnames:\n",
    "    src = os.path.join(original_aca_dir, fname)\n",
    "    dst = os.path.join(test_aca_dir, fname)\n",
    "    shutil.copyfile(src, dst)"
   ]
  },
  {
   "cell_type": "code",
   "execution_count": 8,
   "id": "aboriginal-suffering",
   "metadata": {},
   "outputs": [
    {
     "name": "stdout",
     "output_type": "stream",
     "text": [
      "total training aca images: 3200\n"
     ]
    }
   ],
   "source": [
    "print('total training aca images:', len(os.listdir(train_aca_dir)))"
   ]
  },
  {
   "cell_type": "code",
   "execution_count": 9,
   "id": "corporate-weight",
   "metadata": {},
   "outputs": [
    {
     "name": "stdout",
     "output_type": "stream",
     "text": [
      "total validation aca images: 799\n",
      "total test aca images: 1000\n"
     ]
    }
   ],
   "source": [
    "print('total validation aca images:', len(os.listdir(validation_aca_dir)))\n",
    "print('total test aca images:', len(os.listdir(test_aca_dir)))"
   ]
  },
  {
   "cell_type": "markdown",
   "id": "accessory-garlic",
   "metadata": {},
   "source": [
    "added the last picture in aca validation manually"
   ]
  },
  {
   "cell_type": "code",
   "execution_count": 11,
   "id": "corrected-chester",
   "metadata": {},
   "outputs": [],
   "source": [
    "\n",
    "# Copy first 3200 benign images to train_benign_dir\n",
    "fnames = ['lungn{}.jpeg'.format(i) for i in range(1,3201)]\n",
    "for fname in fnames:\n",
    "    src = os.path.join(original_benign_dir, fname)\n",
    "    dst = os.path.join(train_benign_dir, fname)\n",
    "    shutil.copyfile(src, dst)\n",
    "    \n",
    "# Copy next 800 benign images to validation_benign_dir\n",
    "fnames = ['lungn{}.jpeg'.format(i) for i in range(3201, 4001)]\n",
    "for fname in fnames:\n",
    "    src = os.path.join(original_benign_dir, fname)\n",
    "    dst = os.path.join(validation_benign_dir, fname)\n",
    "    shutil.copyfile(src, dst)\n",
    "    \n",
    "# Copy next 1000 benign images to test_benign_dir\n",
    "fnames = ['lungn{}.jpeg'.format(i) for i in range(4001, 5001)]\n",
    "for fname in fnames:\n",
    "    src = os.path.join(original_benign_dir, fname)\n",
    "    dst = os.path.join(test_benign_dir, fname)\n",
    "    shutil.copyfile(src, dst)"
   ]
  },
  {
   "cell_type": "code",
   "execution_count": 12,
   "id": "touched-columbus",
   "metadata": {},
   "outputs": [
    {
     "name": "stdout",
     "output_type": "stream",
     "text": [
      "total training benign images: 3200\n",
      "total validation benign images: 800\n",
      "total test benign images: 1001\n"
     ]
    }
   ],
   "source": [
    "print('total training benign images:', len(os.listdir(train_benign_dir)))\n",
    "print('total validation benign images:', len(os.listdir(validation_benign_dir)))\n",
    "print('total test benign images:', len(os.listdir(test_benign_dir)))"
   ]
  },
  {
   "cell_type": "markdown",
   "id": "macro-paint",
   "metadata": {},
   "source": [
    "Deleted lungn4000 from test_benign folder manually"
   ]
  },
  {
   "cell_type": "code",
   "execution_count": 13,
   "id": "electric-commission",
   "metadata": {},
   "outputs": [],
   "source": [
    "# Copy first 3200 benign images to train_scc_dir\n",
    "fnames = ['lungscc{}.jpeg'.format(i) for i in range(1,3201)]\n",
    "for fname in fnames:\n",
    "    src = os.path.join(original_scc_dir, fname)\n",
    "    dst = os.path.join(train_scc_dir, fname)\n",
    "    shutil.copyfile(src, dst)\n",
    "    \n",
    "# Copy next 800 benign images to validation_scc_dir\n",
    "fnames = ['lungscc{}.jpeg'.format(i) for i in range(3201, 4001)]\n",
    "for fname in fnames:\n",
    "    src = os.path.join(original_scc_dir, fname)\n",
    "    dst = os.path.join(validation_scc_dir, fname)\n",
    "    shutil.copyfile(src, dst)\n",
    "    \n",
    "# Copy next 1000 benign images to test_scc_dir\n",
    "fnames = ['lungscc{}.jpeg'.format(i) for i in range(4001, 5001)]\n",
    "for fname in fnames:\n",
    "    src = os.path.join(original_scc_dir, fname)\n",
    "    dst = os.path.join(test_scc_dir, fname)\n",
    "    shutil.copyfile(src, dst)"
   ]
  },
  {
   "cell_type": "code",
   "execution_count": 14,
   "id": "turkish-kingdom",
   "metadata": {},
   "outputs": [
    {
     "name": "stdout",
     "output_type": "stream",
     "text": [
      "total training benign images: 3200\n",
      "total validation benign images: 800\n",
      "total test benign images: 1000\n"
     ]
    }
   ],
   "source": [
    "print('total training benign images:', len(os.listdir(train_scc_dir)))\n",
    "print('total validation benign images:', len(os.listdir(validation_scc_dir)))\n",
    "print('total test benign images:', len(os.listdir(test_scc_dir)))"
   ]
  },
  {
   "cell_type": "code",
   "execution_count": null,
   "id": "acting-retail",
   "metadata": {},
   "outputs": [],
   "source": []
  }
 ],
 "metadata": {
  "kernelspec": {
   "display_name": "Python [conda env:metis] *",
   "language": "python",
   "name": "conda-env-metis-py"
  },
  "language_info": {
   "codemirror_mode": {
    "name": "ipython",
    "version": 3
   },
   "file_extension": ".py",
   "mimetype": "text/x-python",
   "name": "python",
   "nbconvert_exporter": "python",
   "pygments_lexer": "ipython3",
   "version": "3.8.8"
  }
 },
 "nbformat": 4,
 "nbformat_minor": 5
}
